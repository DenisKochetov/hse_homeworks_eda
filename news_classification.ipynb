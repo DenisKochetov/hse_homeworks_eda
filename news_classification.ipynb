{
  "cells": [
    {
      "cell_type": "code",
      "execution_count": null,
      "metadata": {
        "id": "0xnRupm9mmID"
      },
      "outputs": [],
      "source": [
        "%matplotlib inline\n",
        "import matplotlib.pyplot as plt\n",
        "import numpy as np\n",
        "import scipy.optimize as opt\n",
        "import sklearn.linear_model\n",
        "import sklearn.model_selection"
      ]
    },
    {
      "cell_type": "code",
      "execution_count": null,
      "metadata": {
        "id": "NJmH_TBTHsZ4"
      },
      "outputs": [],
      "source": [
        "from sklearn.pipeline import Pipeline\n",
        "from sklearn.feature_extraction.text import TfidfVectorizer, HashingVectorizer "
      ]
    },
    {
      "cell_type": "code",
      "execution_count": null,
      "metadata": {
        "id": "72c_v3X8F1KZ"
      },
      "outputs": [],
      "source": [
        "from sklearn.model_selection import train_test_split\n",
        "from sklearn.model_selection import KFold\n",
        "from sklearn.linear_model import SGDClassifier\n",
        "from sklearn.svm import LinearSVC\n",
        "from sklearn import metrics\n",
        "from sklearn.ensemble import GradientBoostingClassifier"
      ]
    },
    {
      "cell_type": "code",
      "execution_count": null,
      "metadata": {
        "id": "d4GJNvttqcgf"
      },
      "outputs": [],
      "source": [
        "from sklearn.model_selection import RandomizedSearchCV\n",
        "from scipy.stats import reciprocal, uniform\n",
        "import numpy as np"
      ]
    },
    {
      "cell_type": "code",
      "execution_count": null,
      "metadata": {
        "id": "lmrAiUfFLWHA"
      },
      "outputs": [],
      "source": [
        "from sklearn.datasets import fetch_20newsgroups\n",
        "news = fetch_20newsgroups(subset='all')"
      ]
    },
    {
      "cell_type": "code",
      "execution_count": null,
      "metadata": {
        "colab": {
          "base_uri": "https://localhost:8080/"
        },
        "id": "E_dQ_0QRn54-",
        "outputId": "3920d23e-e319-44f7-829a-d385a3c778bf"
      },
      "outputs": [
        {
          "name": "stdout",
          "output_type": "stream",
          "text": [
            "Requirement already satisfied: data_describe in /usr/local/lib/python3.7/dist-packages (0.1.0b3)\n",
            "Requirement already satisfied: importlib-metadata in /usr/local/lib/python3.7/dist-packages (from data_describe) (4.11.3)\n",
            "Requirement already satisfied: plotly>=4.0 in /usr/local/lib/python3.7/dist-packages (from data_describe) (5.5.0)\n",
            "Requirement already satisfied: numpy>=1.16 in /usr/local/lib/python3.7/dist-packages (from data_describe) (1.21.5)\n",
            "Requirement already satisfied: pandas>=1.0 in /usr/local/lib/python3.7/dist-packages (from data_describe) (1.3.5)\n",
            "Requirement already satisfied: scipy>=1.1 in /usr/local/lib/python3.7/dist-packages (from data_describe) (1.4.1)\n",
            "Requirement already satisfied: scikit-learn>=0.23 in /usr/local/lib/python3.7/dist-packages (from data_describe) (1.0.2)\n",
            "Requirement already satisfied: seaborn>=0.11 in /usr/local/lib/python3.7/dist-packages (from data_describe) (0.11.2)\n",
            "Requirement already satisfied: pytz>=2017.3 in /usr/local/lib/python3.7/dist-packages (from pandas>=1.0->data_describe) (2018.9)\n",
            "Requirement already satisfied: python-dateutil>=2.7.3 in /usr/local/lib/python3.7/dist-packages (from pandas>=1.0->data_describe) (2.8.2)\n",
            "Requirement already satisfied: six in /usr/local/lib/python3.7/dist-packages (from plotly>=4.0->data_describe) (1.15.0)\n",
            "Requirement already satisfied: tenacity>=6.2.0 in /usr/local/lib/python3.7/dist-packages (from plotly>=4.0->data_describe) (8.0.1)\n",
            "Requirement already satisfied: threadpoolctl>=2.0.0 in /usr/local/lib/python3.7/dist-packages (from scikit-learn>=0.23->data_describe) (3.1.0)\n",
            "Requirement already satisfied: joblib>=0.11 in /usr/local/lib/python3.7/dist-packages (from scikit-learn>=0.23->data_describe) (1.1.0)\n",
            "Requirement already satisfied: matplotlib>=2.2 in /usr/local/lib/python3.7/dist-packages (from seaborn>=0.11->data_describe) (3.2.2)\n",
            "Requirement already satisfied: pyparsing!=2.0.4,!=2.1.2,!=2.1.6,>=2.0.1 in /usr/local/lib/python3.7/dist-packages (from matplotlib>=2.2->seaborn>=0.11->data_describe) (3.0.7)\n",
            "Requirement already satisfied: cycler>=0.10 in /usr/local/lib/python3.7/dist-packages (from matplotlib>=2.2->seaborn>=0.11->data_describe) (0.11.0)\n",
            "Requirement already satisfied: kiwisolver>=1.0.1 in /usr/local/lib/python3.7/dist-packages (from matplotlib>=2.2->seaborn>=0.11->data_describe) (1.4.0)\n",
            "Requirement already satisfied: typing-extensions in /usr/local/lib/python3.7/dist-packages (from kiwisolver>=1.0.1->matplotlib>=2.2->seaborn>=0.11->data_describe) (3.10.0.2)\n",
            "Requirement already satisfied: zipp>=0.5 in /usr/local/lib/python3.7/dist-packages (from importlib-metadata->data_describe) (3.7.0)\n"
          ]
        }
      ],
      "source": [
        "!pip install data_describe"
      ]
    },
    {
      "cell_type": "code",
      "execution_count": null,
      "metadata": {
        "id": "RyDSvqb3n4WV"
      },
      "outputs": [],
      "source": [
        "from data_describe.text.text_preprocessing import *"
      ]
    },
    {
      "cell_type": "code",
      "execution_count": null,
      "metadata": {
        "colab": {
          "base_uri": "https://localhost:8080/"
        },
        "id": "ONcOBFjTnxwC",
        "outputId": "a960acec-e275-445c-d9ad-b7be69264d65"
      },
      "outputs": [
        {
          "data": {
            "text/plain": [
              "['From',\n",
              " ':',\n",
              " 'Mamatha',\n",
              " 'Devineni',\n",
              " 'Ratnam',\n",
              " '<',\n",
              " 'mr47+',\n",
              " '@',\n",
              " 'andrew.cmu.edu',\n",
              " '>',\n",
              " 'Subject',\n",
              " ':',\n",
              " 'Pens',\n",
              " 'fans',\n",
              " 'reactions',\n",
              " 'Organization',\n",
              " ':',\n",
              " 'Post',\n",
              " 'Office',\n",
              " ',',\n",
              " 'Carnegie',\n",
              " 'Mellon',\n",
              " ',',\n",
              " 'Pittsburgh',\n",
              " ',',\n",
              " 'PA',\n",
              " 'Lines',\n",
              " ':',\n",
              " '12',\n",
              " 'NNTP-Posting-Host',\n",
              " ':',\n",
              " 'po4.andrew.cmu.edu',\n",
              " 'I',\n",
              " 'am',\n",
              " 'sure',\n",
              " 'some',\n",
              " 'bashers',\n",
              " 'of',\n",
              " 'Pens',\n",
              " 'fans',\n",
              " 'are',\n",
              " 'pretty',\n",
              " 'confused',\n",
              " 'about',\n",
              " 'the',\n",
              " 'lack',\n",
              " 'of',\n",
              " 'any',\n",
              " 'kind',\n",
              " 'of',\n",
              " 'posts',\n",
              " 'about',\n",
              " 'the',\n",
              " 'recent',\n",
              " 'Pens',\n",
              " 'massacre',\n",
              " 'of',\n",
              " 'the',\n",
              " 'Devils',\n",
              " '.',\n",
              " 'Actually',\n",
              " ',',\n",
              " 'I',\n",
              " 'am',\n",
              " 'bit',\n",
              " 'puzzled',\n",
              " 'too',\n",
              " 'and',\n",
              " 'a',\n",
              " 'bit',\n",
              " 'relieved',\n",
              " '.',\n",
              " 'However',\n",
              " ',',\n",
              " 'I',\n",
              " 'am',\n",
              " 'going',\n",
              " 'to',\n",
              " 'put',\n",
              " 'an',\n",
              " 'end',\n",
              " 'to',\n",
              " 'non-PIttsburghers',\n",
              " \"'\",\n",
              " 'relief',\n",
              " 'with',\n",
              " 'a',\n",
              " 'bit',\n",
              " 'of',\n",
              " 'praise',\n",
              " 'for',\n",
              " 'the',\n",
              " 'Pens',\n",
              " '.',\n",
              " 'Man',\n",
              " ',',\n",
              " 'they',\n",
              " 'are',\n",
              " 'killing',\n",
              " 'those',\n",
              " 'Devils',\n",
              " 'worse',\n",
              " 'than',\n",
              " 'I',\n",
              " 'thought',\n",
              " '.',\n",
              " 'Jagr',\n",
              " 'just',\n",
              " 'showed',\n",
              " 'you',\n",
              " 'why',\n",
              " 'he',\n",
              " 'is',\n",
              " 'much',\n",
              " 'better',\n",
              " 'than',\n",
              " 'his',\n",
              " 'regular',\n",
              " 'season',\n",
              " 'stats',\n",
              " '.',\n",
              " 'He',\n",
              " 'is',\n",
              " 'also',\n",
              " 'a',\n",
              " 'lot',\n",
              " 'fo',\n",
              " 'fun',\n",
              " 'to',\n",
              " 'watch',\n",
              " 'in',\n",
              " 'the',\n",
              " 'playoffs',\n",
              " '.',\n",
              " 'Bowman',\n",
              " 'should',\n",
              " 'let',\n",
              " 'JAgr',\n",
              " 'have',\n",
              " 'a',\n",
              " 'lot',\n",
              " 'of',\n",
              " 'fun',\n",
              " 'in',\n",
              " 'the',\n",
              " 'next',\n",
              " 'couple',\n",
              " 'of',\n",
              " 'games',\n",
              " 'since',\n",
              " 'the',\n",
              " 'Pens',\n",
              " 'are',\n",
              " 'going',\n",
              " 'to',\n",
              " 'beat',\n",
              " 'the',\n",
              " 'pulp',\n",
              " 'out',\n",
              " 'of',\n",
              " 'Jersey',\n",
              " 'anyway',\n",
              " '.',\n",
              " 'I',\n",
              " 'was',\n",
              " 'very',\n",
              " 'disappointed',\n",
              " 'not',\n",
              " 'to',\n",
              " 'see',\n",
              " 'the',\n",
              " 'Islanders',\n",
              " 'lose',\n",
              " 'the',\n",
              " 'final',\n",
              " 'regular',\n",
              " 'season',\n",
              " 'game',\n",
              " '.',\n",
              " 'PENS',\n",
              " 'RULE',\n",
              " '!',\n",
              " '!',\n",
              " '!']"
            ]
          },
          "execution_count": 8,
          "metadata": {},
          "output_type": "execute_result"
        }
      ],
      "source": [
        "tokens = to_list(tokenize(news.data))\n",
        "tokens[0]"
      ]
    },
    {
      "cell_type": "code",
      "execution_count": null,
      "metadata": {
        "colab": {
          "base_uri": "https://localhost:8080/"
        },
        "id": "-SjXBcuaoBVg",
        "outputId": "bdcf82b3-326f-44d5-eae5-db6a5ef6d9b0"
      },
      "outputs": [
        {
          "data": {
            "text/plain": [
              "['from',\n",
              " ':',\n",
              " 'mamatha',\n",
              " 'devineni',\n",
              " 'ratnam',\n",
              " '<',\n",
              " 'mr47+',\n",
              " '@',\n",
              " 'andrew.cmu.edu',\n",
              " '>',\n",
              " 'subject',\n",
              " ':',\n",
              " 'pens',\n",
              " 'fans',\n",
              " 'reactions',\n",
              " 'organization',\n",
              " ':',\n",
              " 'post',\n",
              " 'office',\n",
              " ',',\n",
              " 'carnegie',\n",
              " 'mellon',\n",
              " ',',\n",
              " 'pittsburgh',\n",
              " ',',\n",
              " 'pa',\n",
              " 'lines',\n",
              " ':',\n",
              " '12',\n",
              " 'nntp-posting-host',\n",
              " ':',\n",
              " 'po4.andrew.cmu.edu',\n",
              " 'i',\n",
              " 'am',\n",
              " 'sure',\n",
              " 'some',\n",
              " 'bashers',\n",
              " 'of',\n",
              " 'pens',\n",
              " 'fans',\n",
              " 'are',\n",
              " 'pretty',\n",
              " 'confused',\n",
              " 'about',\n",
              " 'the',\n",
              " 'lack',\n",
              " 'of',\n",
              " 'any',\n",
              " 'kind',\n",
              " 'of',\n",
              " 'posts',\n",
              " 'about',\n",
              " 'the',\n",
              " 'recent',\n",
              " 'pens',\n",
              " 'massacre',\n",
              " 'of',\n",
              " 'the',\n",
              " 'devils',\n",
              " '.',\n",
              " 'actually',\n",
              " ',',\n",
              " 'i',\n",
              " 'am',\n",
              " 'bit',\n",
              " 'puzzled',\n",
              " 'too',\n",
              " 'and',\n",
              " 'a',\n",
              " 'bit',\n",
              " 'relieved',\n",
              " '.',\n",
              " 'however',\n",
              " ',',\n",
              " 'i',\n",
              " 'am',\n",
              " 'going',\n",
              " 'to',\n",
              " 'put',\n",
              " 'an',\n",
              " 'end',\n",
              " 'to',\n",
              " 'non-pittsburghers',\n",
              " \"'\",\n",
              " 'relief',\n",
              " 'with',\n",
              " 'a',\n",
              " 'bit',\n",
              " 'of',\n",
              " 'praise',\n",
              " 'for',\n",
              " 'the',\n",
              " 'pens',\n",
              " '.',\n",
              " 'man',\n",
              " ',',\n",
              " 'they',\n",
              " 'are',\n",
              " 'killing',\n",
              " 'those',\n",
              " 'devils',\n",
              " 'worse',\n",
              " 'than',\n",
              " 'i',\n",
              " 'thought',\n",
              " '.',\n",
              " 'jagr',\n",
              " 'just',\n",
              " 'showed',\n",
              " 'you',\n",
              " 'why',\n",
              " 'he',\n",
              " 'is',\n",
              " 'much',\n",
              " 'better',\n",
              " 'than',\n",
              " 'his',\n",
              " 'regular',\n",
              " 'season',\n",
              " 'stats',\n",
              " '.',\n",
              " 'he',\n",
              " 'is',\n",
              " 'also',\n",
              " 'a',\n",
              " 'lot',\n",
              " 'fo',\n",
              " 'fun',\n",
              " 'to',\n",
              " 'watch',\n",
              " 'in',\n",
              " 'the',\n",
              " 'playoffs',\n",
              " '.',\n",
              " 'bowman',\n",
              " 'should',\n",
              " 'let',\n",
              " 'jagr',\n",
              " 'have',\n",
              " 'a',\n",
              " 'lot',\n",
              " 'of',\n",
              " 'fun',\n",
              " 'in',\n",
              " 'the',\n",
              " 'next',\n",
              " 'couple',\n",
              " 'of',\n",
              " 'games',\n",
              " 'since',\n",
              " 'the',\n",
              " 'pens',\n",
              " 'are',\n",
              " 'going',\n",
              " 'to',\n",
              " 'beat',\n",
              " 'the',\n",
              " 'pulp',\n",
              " 'out',\n",
              " 'of',\n",
              " 'jersey',\n",
              " 'anyway',\n",
              " '.',\n",
              " 'i',\n",
              " 'was',\n",
              " 'very',\n",
              " 'disappointed',\n",
              " 'not',\n",
              " 'to',\n",
              " 'see',\n",
              " 'the',\n",
              " 'islanders',\n",
              " 'lose',\n",
              " 'the',\n",
              " 'final',\n",
              " 'regular',\n",
              " 'season',\n",
              " 'game',\n",
              " '.',\n",
              " 'pens',\n",
              " 'rule',\n",
              " '!',\n",
              " '!',\n",
              " '!']"
            ]
          },
          "execution_count": 9,
          "metadata": {},
          "output_type": "execute_result"
        }
      ],
      "source": [
        "lower = to_list(to_lower(tokens))\n",
        "lower[0]"
      ]
    },
    {
      "cell_type": "code",
      "execution_count": null,
      "metadata": {
        "colab": {
          "base_uri": "https://localhost:8080/"
        },
        "id": "jz01hO7qoEWg",
        "outputId": "566926b6-7b15-4bcf-f2fe-6fa12d1653eb"
      },
      "outputs": [
        {
          "data": {
            "text/plain": [
              "['from',\n",
              " 'mamatha',\n",
              " 'devineni',\n",
              " 'ratnam',\n",
              " 'mr47',\n",
              " 'andrew.cmu.edu',\n",
              " 'subject',\n",
              " 'pens',\n",
              " 'fans',\n",
              " 'reactions',\n",
              " 'organization',\n",
              " 'post',\n",
              " 'office',\n",
              " 'carnegie',\n",
              " 'mellon',\n",
              " 'pittsburgh',\n",
              " 'pa',\n",
              " 'lines',\n",
              " '12',\n",
              " 'nntp-posting-host',\n",
              " 'po4.andrew.cmu.edu',\n",
              " 'i',\n",
              " 'am',\n",
              " 'sure',\n",
              " 'some',\n",
              " 'bashers',\n",
              " 'of',\n",
              " 'pens',\n",
              " 'fans',\n",
              " 'are',\n",
              " 'pretty',\n",
              " 'confused',\n",
              " 'about',\n",
              " 'the',\n",
              " 'lack',\n",
              " 'of',\n",
              " 'any',\n",
              " 'kind',\n",
              " 'of',\n",
              " 'posts',\n",
              " 'about',\n",
              " 'the',\n",
              " 'recent',\n",
              " 'pens',\n",
              " 'massacre',\n",
              " 'of',\n",
              " 'the',\n",
              " 'devils',\n",
              " 'actually',\n",
              " 'i',\n",
              " 'am',\n",
              " 'bit',\n",
              " 'puzzled',\n",
              " 'too',\n",
              " 'and',\n",
              " 'a',\n",
              " 'bit',\n",
              " 'relieved',\n",
              " 'however',\n",
              " 'i',\n",
              " 'am',\n",
              " 'going',\n",
              " 'to',\n",
              " 'put',\n",
              " 'an',\n",
              " 'end',\n",
              " 'to',\n",
              " 'non-pittsburghers',\n",
              " 'relief',\n",
              " 'with',\n",
              " 'a',\n",
              " 'bit',\n",
              " 'of',\n",
              " 'praise',\n",
              " 'for',\n",
              " 'the',\n",
              " 'pens',\n",
              " 'man',\n",
              " 'they',\n",
              " 'are',\n",
              " 'killing',\n",
              " 'those',\n",
              " 'devils',\n",
              " 'worse',\n",
              " 'than',\n",
              " 'i',\n",
              " 'thought',\n",
              " 'jagr',\n",
              " 'just',\n",
              " 'showed',\n",
              " 'you',\n",
              " 'why',\n",
              " 'he',\n",
              " 'is',\n",
              " 'much',\n",
              " 'better',\n",
              " 'than',\n",
              " 'his',\n",
              " 'regular',\n",
              " 'season',\n",
              " 'stats',\n",
              " 'he',\n",
              " 'is',\n",
              " 'also',\n",
              " 'a',\n",
              " 'lot',\n",
              " 'fo',\n",
              " 'fun',\n",
              " 'to',\n",
              " 'watch',\n",
              " 'in',\n",
              " 'the',\n",
              " 'playoffs',\n",
              " 'bowman',\n",
              " 'should',\n",
              " 'let',\n",
              " 'jagr',\n",
              " 'have',\n",
              " 'a',\n",
              " 'lot',\n",
              " 'of',\n",
              " 'fun',\n",
              " 'in',\n",
              " 'the',\n",
              " 'next',\n",
              " 'couple',\n",
              " 'of',\n",
              " 'games',\n",
              " 'since',\n",
              " 'the',\n",
              " 'pens',\n",
              " 'are',\n",
              " 'going',\n",
              " 'to',\n",
              " 'beat',\n",
              " 'the',\n",
              " 'pulp',\n",
              " 'out',\n",
              " 'of',\n",
              " 'jersey',\n",
              " 'anyway',\n",
              " 'i',\n",
              " 'was',\n",
              " 'very',\n",
              " 'disappointed',\n",
              " 'not',\n",
              " 'to',\n",
              " 'see',\n",
              " 'the',\n",
              " 'islanders',\n",
              " 'lose',\n",
              " 'the',\n",
              " 'final',\n",
              " 'regular',\n",
              " 'season',\n",
              " 'game',\n",
              " 'pens',\n",
              " 'rule']"
            ]
          },
          "execution_count": 10,
          "metadata": {},
          "output_type": "execute_result"
        }
      ],
      "source": [
        "no_punct = to_list(remove_punct(lower))\n",
        "no_punct[0]"
      ]
    },
    {
      "cell_type": "code",
      "execution_count": null,
      "metadata": {
        "id": "powM97XtoHfc"
      },
      "outputs": [],
      "source": [
        "no_digits = to_list(remove_digits(no_punct))"
      ]
    },
    {
      "cell_type": "code",
      "execution_count": null,
      "metadata": {
        "colab": {
          "base_uri": "https://localhost:8080/"
        },
        "id": "2DsXpF_poLGS",
        "outputId": "b87bc111-b525-4cf5-cfff-577072fd8fac"
      },
      "outputs": [
        {
          "data": {
            "text/plain": [
              "['from',\n",
              " 'mamatha',\n",
              " 'devineni',\n",
              " 'ratnam',\n",
              " 'andrew.cmu.edu',\n",
              " 'subject',\n",
              " 'pens',\n",
              " 'fans',\n",
              " 'reactions',\n",
              " 'organization',\n",
              " 'post',\n",
              " 'office',\n",
              " 'carnegie',\n",
              " 'mellon',\n",
              " 'pittsburgh',\n",
              " 'pa',\n",
              " 'lines',\n",
              " 'nntp-posting-host',\n",
              " '.andrew.cmu.edu',\n",
              " 'am',\n",
              " 'sure',\n",
              " 'some',\n",
              " 'bashers',\n",
              " 'of',\n",
              " 'pens',\n",
              " 'fans',\n",
              " 'are',\n",
              " 'pretty',\n",
              " 'confused',\n",
              " 'about',\n",
              " 'the',\n",
              " 'lack',\n",
              " 'of',\n",
              " 'any',\n",
              " 'kind',\n",
              " 'of',\n",
              " 'posts',\n",
              " 'about',\n",
              " 'the',\n",
              " 'recent',\n",
              " 'pens',\n",
              " 'massacre',\n",
              " 'of',\n",
              " 'the',\n",
              " 'devils',\n",
              " 'actually',\n",
              " 'am',\n",
              " 'bit',\n",
              " 'puzzled',\n",
              " 'too',\n",
              " 'and',\n",
              " 'bit',\n",
              " 'relieved',\n",
              " 'however',\n",
              " 'am',\n",
              " 'going',\n",
              " 'to',\n",
              " 'put',\n",
              " 'an',\n",
              " 'end',\n",
              " 'to',\n",
              " 'non-pittsburghers',\n",
              " 'relief',\n",
              " 'with',\n",
              " 'bit',\n",
              " 'of',\n",
              " 'praise',\n",
              " 'for',\n",
              " 'the',\n",
              " 'pens',\n",
              " 'man',\n",
              " 'they',\n",
              " 'are',\n",
              " 'killing',\n",
              " 'those',\n",
              " 'devils',\n",
              " 'worse',\n",
              " 'than',\n",
              " 'thought',\n",
              " 'jagr',\n",
              " 'just',\n",
              " 'showed',\n",
              " 'you',\n",
              " 'why',\n",
              " 'he',\n",
              " 'is',\n",
              " 'much',\n",
              " 'better',\n",
              " 'than',\n",
              " 'his',\n",
              " 'regular',\n",
              " 'season',\n",
              " 'stats',\n",
              " 'he',\n",
              " 'is',\n",
              " 'also',\n",
              " 'lot',\n",
              " 'fo',\n",
              " 'fun',\n",
              " 'to',\n",
              " 'watch',\n",
              " 'in',\n",
              " 'the',\n",
              " 'playoffs',\n",
              " 'bowman',\n",
              " 'should',\n",
              " 'let',\n",
              " 'jagr',\n",
              " 'have',\n",
              " 'lot',\n",
              " 'of',\n",
              " 'fun',\n",
              " 'in',\n",
              " 'the',\n",
              " 'next',\n",
              " 'couple',\n",
              " 'of',\n",
              " 'games',\n",
              " 'since',\n",
              " 'the',\n",
              " 'pens',\n",
              " 'are',\n",
              " 'going',\n",
              " 'to',\n",
              " 'beat',\n",
              " 'the',\n",
              " 'pulp',\n",
              " 'out',\n",
              " 'of',\n",
              " 'jersey',\n",
              " 'anyway',\n",
              " 'was',\n",
              " 'very',\n",
              " 'disappointed',\n",
              " 'not',\n",
              " 'to',\n",
              " 'see',\n",
              " 'the',\n",
              " 'islanders',\n",
              " 'lose',\n",
              " 'the',\n",
              " 'final',\n",
              " 'regular',\n",
              " 'season',\n",
              " 'game',\n",
              " 'pens',\n",
              " 'rule']"
            ]
          },
          "execution_count": 12,
          "metadata": {},
          "output_type": "execute_result"
        }
      ],
      "source": [
        "no_single_char_and_space = to_list(remove_single_char_and_spaces(no_digits))\n",
        "no_single_char_and_space[0]"
      ]
    },
    {
      "cell_type": "code",
      "execution_count": null,
      "metadata": {
        "colab": {
          "base_uri": "https://localhost:8080/"
        },
        "id": "4ZSECVGKoOsd",
        "outputId": "dbd176d8-2a1f-442b-cd62-8d6b6c5936f9"
      },
      "outputs": [
        {
          "data": {
            "text/plain": [
              "['mamatha',\n",
              " 'devineni',\n",
              " 'ratnam',\n",
              " 'andrew.cmu.edu',\n",
              " 'subject',\n",
              " 'pens',\n",
              " 'fans',\n",
              " 'reactions',\n",
              " 'organization',\n",
              " 'post',\n",
              " 'office',\n",
              " 'carnegie',\n",
              " 'mellon',\n",
              " 'pittsburgh',\n",
              " 'pa',\n",
              " 'lines',\n",
              " 'nntp-posting-host',\n",
              " '.andrew.cmu.edu',\n",
              " 'sure',\n",
              " 'bashers',\n",
              " 'pens',\n",
              " 'fans',\n",
              " 'pretty',\n",
              " 'confused',\n",
              " 'lack',\n",
              " 'kind',\n",
              " 'posts',\n",
              " 'recent',\n",
              " 'pens',\n",
              " 'massacre',\n",
              " 'devils',\n",
              " 'actually',\n",
              " 'bit',\n",
              " 'puzzled',\n",
              " 'bit',\n",
              " 'relieved',\n",
              " 'however',\n",
              " 'going',\n",
              " 'put',\n",
              " 'end',\n",
              " 'non-pittsburghers',\n",
              " 'relief',\n",
              " 'bit',\n",
              " 'praise',\n",
              " 'pens',\n",
              " 'man',\n",
              " 'killing',\n",
              " 'devils',\n",
              " 'worse',\n",
              " 'thought',\n",
              " 'jagr',\n",
              " 'showed',\n",
              " 'much',\n",
              " 'better',\n",
              " 'regular',\n",
              " 'season',\n",
              " 'stats',\n",
              " 'also',\n",
              " 'lot',\n",
              " 'fo',\n",
              " 'fun',\n",
              " 'watch',\n",
              " 'playoffs',\n",
              " 'bowman',\n",
              " 'let',\n",
              " 'jagr',\n",
              " 'lot',\n",
              " 'fun',\n",
              " 'next',\n",
              " 'couple',\n",
              " 'games',\n",
              " 'since',\n",
              " 'pens',\n",
              " 'going',\n",
              " 'beat',\n",
              " 'pulp',\n",
              " 'jersey',\n",
              " 'anyway',\n",
              " 'disappointed',\n",
              " 'see',\n",
              " 'islanders',\n",
              " 'lose',\n",
              " 'final',\n",
              " 'regular',\n",
              " 'season',\n",
              " 'game',\n",
              " 'pens',\n",
              " 'rule']"
            ]
          },
          "execution_count": 13,
          "metadata": {},
          "output_type": "execute_result"
        }
      ],
      "source": [
        "no_stopwords = to_list(remove_stopwords(no_single_char_and_space))\n",
        "no_stopwords[0]"
      ]
    },
    {
      "cell_type": "code",
      "execution_count": null,
      "metadata": {
        "colab": {
          "base_uri": "https://localhost:8080/"
        },
        "id": "DjUciwfnoRVW",
        "outputId": "83957aee-a82e-4db6-c4ca-b2b5f08fbe66"
      },
      "outputs": [
        {
          "data": {
            "text/plain": [
              "['mamatha',\n",
              " 'devineni',\n",
              " 'ratnam',\n",
              " 'andrew.cmu.edu',\n",
              " 'subject',\n",
              " 'pen',\n",
              " 'fan',\n",
              " 'reaction',\n",
              " 'organization',\n",
              " 'post',\n",
              " 'office',\n",
              " 'carnegie',\n",
              " 'mellon',\n",
              " 'pittsburgh',\n",
              " 'pa',\n",
              " 'line',\n",
              " 'nntp-posting-host',\n",
              " '.andrew.cmu.edu',\n",
              " 'sure',\n",
              " 'bashers',\n",
              " 'pen',\n",
              " 'fan',\n",
              " 'pretty',\n",
              " 'confused',\n",
              " 'lack',\n",
              " 'kind',\n",
              " 'post',\n",
              " 'recent',\n",
              " 'pen',\n",
              " 'massacre',\n",
              " 'devil',\n",
              " 'actually',\n",
              " 'bit',\n",
              " 'puzzled',\n",
              " 'bit',\n",
              " 'relieved',\n",
              " 'however',\n",
              " 'going',\n",
              " 'put',\n",
              " 'end',\n",
              " 'non-pittsburghers',\n",
              " 'relief',\n",
              " 'bit',\n",
              " 'praise',\n",
              " 'pen',\n",
              " 'man',\n",
              " 'killing',\n",
              " 'devil',\n",
              " 'worse',\n",
              " 'thought',\n",
              " 'jagr',\n",
              " 'showed',\n",
              " 'much',\n",
              " 'better',\n",
              " 'regular',\n",
              " 'season',\n",
              " 'stats',\n",
              " 'also',\n",
              " 'lot',\n",
              " 'fo',\n",
              " 'fun',\n",
              " 'watch',\n",
              " 'playoff',\n",
              " 'bowman',\n",
              " 'let',\n",
              " 'jagr',\n",
              " 'lot',\n",
              " 'fun',\n",
              " 'next',\n",
              " 'couple',\n",
              " 'game',\n",
              " 'since',\n",
              " 'pen',\n",
              " 'going',\n",
              " 'beat',\n",
              " 'pulp',\n",
              " 'jersey',\n",
              " 'anyway',\n",
              " 'disappointed',\n",
              " 'see',\n",
              " 'islander',\n",
              " 'lose',\n",
              " 'final',\n",
              " 'regular',\n",
              " 'season',\n",
              " 'game',\n",
              " 'pen',\n",
              " 'rule']"
            ]
          },
          "execution_count": 14,
          "metadata": {},
          "output_type": "execute_result"
        }
      ],
      "source": [
        "lem_docs = to_list(lemmatize(no_stopwords))\n",
        "lem_docs[0]"
      ]
    },
    {
      "cell_type": "code",
      "execution_count": null,
      "metadata": {
        "colab": {
          "base_uri": "https://localhost:8080/"
        },
        "id": "QuIbLnBUoS7n",
        "outputId": "e72be1b4-3905-408b-e202-b27a78015ff6"
      },
      "outputs": [
        {
          "data": {
            "text/plain": [
              "['mamath',\n",
              " 'devinen',\n",
              " 'ratnam',\n",
              " 'andrew.cmu.edu',\n",
              " 'subject',\n",
              " 'pen',\n",
              " 'fan',\n",
              " 'react',\n",
              " 'org',\n",
              " 'post',\n",
              " 'off',\n",
              " 'carnegy',\n",
              " 'mellon',\n",
              " 'pittsburgh',\n",
              " 'pa',\n",
              " 'lin',\n",
              " 'nntp-posting-host',\n",
              " '.andrew.cmu.edu',\n",
              " 'sur',\n",
              " 'bash',\n",
              " 'pen',\n",
              " 'fan',\n",
              " 'pretty',\n",
              " 'confus',\n",
              " 'lack',\n",
              " 'kind',\n",
              " 'post',\n",
              " 'rec',\n",
              " 'pen',\n",
              " 'massacr',\n",
              " 'devil',\n",
              " 'act',\n",
              " 'bit',\n",
              " 'puzzl',\n",
              " 'bit',\n",
              " 'reliev',\n",
              " 'howev',\n",
              " 'going',\n",
              " 'put',\n",
              " 'end',\n",
              " 'non-pittsburghers',\n",
              " 'reliev',\n",
              " 'bit',\n",
              " 'pra',\n",
              " 'pen',\n",
              " 'man',\n",
              " 'kil',\n",
              " 'devil',\n",
              " 'wors',\n",
              " 'thought',\n",
              " 'jagr',\n",
              " 'show',\n",
              " 'much',\n",
              " 'bet',\n",
              " 'regul',\n",
              " 'season',\n",
              " 'stat',\n",
              " 'also',\n",
              " 'lot',\n",
              " 'fo',\n",
              " 'fun',\n",
              " 'watch',\n",
              " 'playoff',\n",
              " 'bowm',\n",
              " 'let',\n",
              " 'jagr',\n",
              " 'lot',\n",
              " 'fun',\n",
              " 'next',\n",
              " 'coupl',\n",
              " 'gam',\n",
              " 'sint',\n",
              " 'pen',\n",
              " 'going',\n",
              " 'beat',\n",
              " 'pulp',\n",
              " 'jersey',\n",
              " 'anyway',\n",
              " 'disappoint',\n",
              " 'see',\n",
              " 'island',\n",
              " 'los',\n",
              " 'fin',\n",
              " 'regul',\n",
              " 'season',\n",
              " 'gam',\n",
              " 'pen',\n",
              " 'rul']"
            ]
          },
          "execution_count": 15,
          "metadata": {},
          "output_type": "execute_result"
        }
      ],
      "source": [
        "stem_docs = to_list(stem(no_stopwords))\n",
        "stem_docs[0]"
      ]
    },
    {
      "cell_type": "code",
      "execution_count": null,
      "metadata": {
        "colab": {
          "base_uri": "https://localhost:8080/",
          "height": 72
        },
        "id": "a3qfmajuoViD",
        "outputId": "7b6497c4-6e78-4e94-98f9-d3a7496a5075"
      },
      "outputs": [
        {
          "data": {
            "application/vnd.google.colaboratory.intrinsic+json": {
              "type": "string"
            },
            "text/plain": [
              "'mamatha devineni ratnam andrew.cmu.edu subject pens fans reactions organization post office carnegie mellon pittsburgh pa lines nntp-posting-host .andrew.cmu.edu sure bashers pens fans pretty confused lack kind posts recent pens massacre devils actually bit puzzled bit relieved however going put end non-pittsburghers relief bit praise pens man killing devils worse thought jagr showed much better regular season stats also lot fo fun watch playoffs bowman let jagr lot fun next couple games since pens going beat pulp jersey anyway disappointed see islanders lose final regular season game pens rule'"
            ]
          },
          "execution_count": 19,
          "metadata": {},
          "output_type": "execute_result"
        }
      ],
      "source": [
        "clean_text_docs = to_list(bag_of_words_to_docs(no_stopwords))\n",
        "clean_text_docs[0]"
      ]
    },
    {
      "cell_type": "code",
      "execution_count": null,
      "metadata": {
        "id": "BlqUjrjNM74t"
      },
      "outputs": [],
      "source": [
        "vectorizer = HashingVectorizer(n_features=1000000)\n",
        "X = vectorizer.fit_transform(clean_text_docs)\n",
        "y = news.target\n"
      ]
    },
    {
      "cell_type": "code",
      "execution_count": null,
      "metadata": {
        "colab": {
          "base_uri": "https://localhost:8080/"
        },
        "id": "Ehz8uDyMZePM",
        "outputId": "bb530786-3ff5-4d09-ebe4-89a0db850d75"
      },
      "outputs": [
        {
          "data": {
            "text/plain": [
              "5"
            ]
          },
          "execution_count": 21,
          "metadata": {},
          "output_type": "execute_result"
        }
      ],
      "source": [
        "def train(classifier, X_train, y_train, X_test, y_test):\n",
        "    classifier.fit(X_train, y_train)  \n",
        "\n",
        "    return classifier\n",
        "\n",
        "kf = KFold(n_splits=5)\n",
        "kf.get_n_splits(X)"
      ]
    },
    {
      "cell_type": "code",
      "execution_count": null,
      "metadata": {
        "colab": {
          "base_uri": "https://localhost:8080/"
        },
        "id": "cxF6JtOyWoL7",
        "outputId": "d7dc153a-dbb2-49c1-cc46-8facdb58d0eb"
      },
      "outputs": [
        {
          "name": "stdout",
          "output_type": "stream",
          "text": [
            "Classifier:  SGDClassifier()\n",
            "Accuracy: 0.8994694960212202\n",
            "Classifier:  LinearSVC()\n",
            "Accuracy: 0.9137931034482759\n",
            "Classifier:  SGDClassifier()\n",
            "Accuracy: 0.9079331387635978\n",
            "Classifier:  LinearSVC()\n",
            "Accuracy: 0.9204032899973468\n",
            "Classifier:  SGDClassifier()\n",
            "Accuracy: 0.90130007959671\n",
            "Classifier:  LinearSVC()\n",
            "Accuracy: 0.9182807110639427\n",
            "Classifier:  SGDClassifier()\n",
            "Accuracy: 0.890421862563014\n",
            "Classifier:  LinearSVC()\n",
            "Accuracy: 0.9066065269302203\n",
            "Classifier:  SGDClassifier()\n",
            "Accuracy: 0.8989121782966304\n",
            "Classifier:  LinearSVC()\n",
            "Accuracy: 0.9140355531971345\n"
          ]
        }
      ],
      "source": [
        "scores = []\n",
        "\n",
        "for train_index, test_index in kf.split(X):\n",
        "    X_train, X_test = X[train_index], X[test_index]\n",
        "    y_train, y_test = y[train_index], y[test_index]\n",
        "    for classifier in [SGDClassifier(), LinearSVC()]:\n",
        "      print(\"Classifier: \", classifier)\n",
        "      classifier = train(classifier, X_train, y_train, X_test, y_test)\n",
        "      y_pred = classifier.predict(X_test)   \n",
        "\n",
        "      print(\"Accuracy: \" + str(classifier.score(X_test, y_test)))\n",
        "      f\n",
        "      # print(metrics.classification_report(y_test, y_pred, target_names=news.target_names))\n"
      ]
    },
    {
      "cell_type": "code",
      "execution_count": null,
      "metadata": {
        "colab": {
          "base_uri": "https://localhost:8080/"
        },
        "id": "xv83GQ2UmVTZ",
        "outputId": "24cd9d37-4d74-4108-c849-700772f772a4"
      },
      "outputs": [
        {
          "name": "stdout",
          "output_type": "stream",
          "text": [
            "                          precision    recall  f1-score   support\n",
            "\n",
            "             alt.atheism       0.71      0.89      0.79       175\n",
            "           comp.graphics       0.55      0.75      0.63       199\n",
            " comp.os.ms-windows.misc       0.68      0.80      0.74       220\n",
            "comp.sys.ibm.pc.hardware       0.59      0.67      0.63       179\n",
            "   comp.sys.mac.hardware       0.54      0.66      0.59       177\n",
            "          comp.windows.x       0.68      0.68      0.68       179\n",
            "            misc.forsale       0.61      0.56      0.58       205\n",
            "               rec.autos       0.82      0.82      0.82       228\n",
            "         rec.motorcycles       0.85      0.86      0.86       183\n",
            "      rec.sport.baseball       0.84      0.77      0.80       197\n",
            "        rec.sport.hockey       0.90      0.85      0.87       204\n",
            "               sci.crypt       0.86      0.94      0.90       218\n",
            "         sci.electronics       0.79      0.69      0.74       172\n",
            "                 sci.med       0.86      0.70      0.77       200\n",
            "               sci.space       0.92      0.82      0.87       198\n",
            "  soc.religion.christian       0.90      0.81      0.85       191\n",
            "      talk.politics.guns       0.90      0.86      0.88       173\n",
            "   talk.politics.mideast       0.94      0.93      0.94       184\n",
            "      talk.politics.misc       0.92      0.66      0.77       172\n",
            "      talk.religion.misc       0.88      0.59      0.71       115\n",
            "\n",
            "                accuracy                           0.77      3769\n",
            "               macro avg       0.79      0.77      0.77      3769\n",
            "            weighted avg       0.79      0.77      0.77      3769\n",
            "\n"
          ]
        }
      ],
      "source": [
        "from sklearn.neighbors import KNeighborsClassifier\n",
        "neigh = KNeighborsClassifier(n_neighbors=2)\n",
        "neigh.fit(X_train, y_train)\n",
        "y_pred = neigh.predict(X_test)\n",
        "   \n",
        "print(metrics.classification_report(y_test, y_pred, target_names=news.target_names))\n",
        "\n"
      ]
    },
    {
      "cell_type": "code",
      "execution_count": null,
      "metadata": {
        "colab": {
          "base_uri": "https://localhost:8080/"
        },
        "id": "sZCtyWw8T9CK",
        "outputId": "fe8a77ad-c0da-4549-f787-c21c68cc1773"
      },
      "outputs": [
        {
          "data": {
            "text/plain": [
              "dict_keys(['C', 'class_weight', 'dual', 'fit_intercept', 'intercept_scaling', 'loss', 'max_iter', 'multi_class', 'penalty', 'random_state', 'tol', 'verbose'])"
            ]
          },
          "execution_count": 24,
          "metadata": {},
          "output_type": "execute_result"
        }
      ],
      "source": [
        "LinearSVC().get_params().keys()"
      ]
    },
    {
      "cell_type": "code",
      "execution_count": null,
      "metadata": {
        "id": "8cUm9IOqxLqX"
      },
      "outputs": [],
      "source": [
        "import warnings\n",
        "warnings.filterwarnings(\"ignore\")"
      ]
    },
    {
      "cell_type": "code",
      "execution_count": null,
      "metadata": {
        "colab": {
          "background_save": true
        },
        "id": "uWNqYcGiUN3d"
      },
      "outputs": [],
      "source": [
        "losses = [\"hinge\", \"squared_hinge\"]\n",
        "duals = [False, True]\n",
        "learning_rates = [1e-15, 1e-8, 1e-4, 1e-2, 1e-1, 1]\n",
        "penalties = [\"l1\", \"l2\", \"elasticnet\"]\n",
        "max_iters = [1000, 5000, 10000, 20000, 50000, 150000]\n",
        "\n",
        "\n",
        "random_grid = {\n",
        "    \"C\": learning_rates,\n",
        "    \"penalty\": penalties,\n",
        "    \"max_iter\": max_iters,\n",
        "    \"loss\": losses,\n",
        "    \"dual\": duals\n",
        "}\n",
        "\n",
        "svc = LinearSVC()\n",
        "\n",
        "n_iter = 50\n",
        "svc_random = RandomizedSearchCV(estimator=svc, param_distributions=random_grid, n_iter=n_iter,\n",
        "                                cv=3, verbose=0, n_jobs=-1, error_score=np.NINF)\n",
        "svc_random.fit(X, y)\n",
        "best_params = svc_random.best_params_"
      ]
    },
    {
      "cell_type": "code",
      "execution_count": null,
      "metadata": {
        "colab": {
          "background_save": true
        },
        "id": "4CAxRtuIVO0L",
        "outputId": "1c5dfe0d-2c58-44dd-cfad-bc8e94d89c70"
      },
      "outputs": [
        {
          "data": {
            "text/plain": [
              "{'C': 1,\n",
              " 'dual': False,\n",
              " 'loss': 'squared_hinge',\n",
              " 'max_iter': 20000,\n",
              " 'penalty': 'l1'}"
            ]
          },
          "execution_count": null,
          "metadata": {},
          "output_type": "execute_result"
        }
      ],
      "source": [
        "best_params"
      ]
    },
    {
      "cell_type": "code",
      "execution_count": null,
      "metadata": {
        "colab": {
          "background_save": true
        },
        "id": "QrL9zqEyVXn2",
        "outputId": "f477e6b7-9da8-4a7f-fb06-6c4b5b7ce6c9"
      },
      "outputs": [
        {
          "name": "stdout",
          "output_type": "stream",
          "text": [
            "Accuracy: 0.8864721485411141\n",
            "Accuracy: 0.8938710533297957\n",
            "Accuracy: 0.8901565401963385\n",
            "Accuracy: 0.8821968691960732\n",
            "Accuracy: 0.8906871849296896\n"
          ]
        }
      ],
      "source": [
        "classifier =  LinearSVC(C=best_params['C'], dual=best_params['dual'], loss=best_params['loss'], max_iter=best_params['max_iter'], penalty=best_params['penalty'])\n",
        "\n",
        "scores = []\n",
        "for train_index, test_index in kf.split(X):\n",
        "    X_train, X_test = X[train_index], X[test_index]\n",
        "    y_train, y_test = y[train_index], y[test_index]\n",
        "    classifier_k = train(classifier, X_train, y_train, X_test, y_test)\n",
        "    y_pred = classifier_k.predict(X_test)\n",
        "  \n",
        "\n",
        "    print(\"Accuracy: \" + str(classifier_k.score(X_test, y_test)))\n",
        "    scores.append(classifier_k.score(X_test, y_test))"
      ]
    },
    {
      "cell_type": "code",
      "execution_count": null,
      "metadata": {
        "colab": {
          "background_save": true
        },
        "id": "cE9XPMRHu1Yy",
        "outputId": "7aec44ba-53b1-4808-f4b6-0e3ffff36861"
      },
      "outputs": [
        {
          "name": "stdout",
          "output_type": "stream",
          "text": [
            "Accuracy: 0.8957559681697612\n",
            "Accuracy: 0.9015654019633855\n",
            "Accuracy: 0.9031573361634386\n",
            "Accuracy: 0.8896258954629875\n",
            "Accuracy: 0.8949323427964977\n"
          ]
        }
      ],
      "source": [
        "vectorizer = TfidfVectorizer()\n",
        "X = vectorizer.fit_transform(clean_text_docs)\n",
        "y = news.target\n",
        "scores = []\n",
        "for train_index, test_index in kf.split(X):\n",
        "    X_train, X_test = X[train_index], X[test_index]\n",
        "    y_train, y_test = y[train_index], y[test_index]\n",
        "    classifier_k = train(classifier, X_train, y_train, X_test, y_test)\n",
        "    y_pred = classifier_k.predict(X_test)\n",
        "  \n",
        "\n",
        "    print(\"Accuracy: \" + str(classifier_k.score(X_test, y_test)))\n",
        "    scores.append(classifier_k.score(X_test, y_test))"
      ]
    },
    {
      "cell_type": "markdown",
      "metadata": {
        "id": "mCJOyieIvA7c"
      },
      "source": [
        "Summary: I preprocessed text (tokenization, stemming, deleted everything except letter), then tried different models. \n",
        "\n",
        "Found best hyperparameters for the model. \n",
        "\n",
        "Also checked TfIdfVectorize instad of Hashing Vectorizer and the results imporved"
      ]
    }
  ],
  "metadata": {
    "colab": {
      "provenance": []
    },
    "kernelspec": {
      "display_name": "Python 3",
      "name": "python3"
    },
    "language_info": {
      "name": "python"
    }
  },
  "nbformat": 4,
  "nbformat_minor": 0
}