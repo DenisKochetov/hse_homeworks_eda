{
  "nbformat": 4,
  "nbformat_minor": 0,
  "metadata": {
    "colab": {
      "name": "colored_letters.ipynb",
      "provenance": [],
      "collapsed_sections": []
    },
    "kernelspec": {
      "name": "python3",
      "display_name": "Python 3"
    },
    "language_info": {
      "name": "python"
    }
  },
  "cells": [
    {
      "cell_type": "code",
      "metadata": {
        "id": "AdPtBdLTd7zo"
      },
      "source": [
        "import nltk # для разбиения текста на слова\n",
        "from sty import fg, bg, ef, rs # для цветного вывода на экран\n",
        "from sty import Style, RgbFg\n",
        "import numpy as np # для работы с массивами\n",
        "import re # для удаления знаков препинания\n",
        "from nltk.tokenize import word_tokenize # текст на слова\n",
        "from sklearn.cluster import KMeans # для кластеризации цветов\n",
        "from math import sqrt # для расчета расстояния между цветами (и поиска ближайшего)\n",
        "import pandas as pd # для работы с таблицей"
      ],
      "execution_count": 42,
      "outputs": []
    },
    {
      "cell_type": "markdown",
      "metadata": {
        "id": "XsQSQSMbbZiN"
      },
      "source": [
        "Текст разбить на слова\n",
        "\n",
        "В каждом слове получить цвет слова\n",
        "\n",
        "Цвет слова получается сложением цветов его гласных + делением на кол-во гласных либо черный\n",
        "\n",
        "1) выводим каждое слово своим цветом \n",
        "\n",
        "2) разбиваем текст на n кластеров, для каждого слова ищем ближайший цвет, выводим на экран найденным цветом\n",
        "\n",
        "3) выводим таблицу частотности звуков (по формулам из презентации, они отражены в коде)"
      ]
    },
    {
      "cell_type": "code",
      "metadata": {
        "id": "unOL34RPpMzi"
      },
      "source": [
        "# Получение цвета слова\n",
        "def colorWord(word):  \n",
        "  word = list(word)\n",
        "  wordColor = np.array([0, 0, 0])\n",
        "  letterCount = 0\n",
        "  for i in range(len(word)):\n",
        "    if word[i] in alphabet:\n",
        "     # print(word[i], alphabet[word[i]])\n",
        "      letterCount += 1\n",
        "      wordColor += alphabet[word[i]]      \n",
        "  if letterCount > 0:\n",
        "    wordColor = np.round(wordColor / letterCount).astype(int)\n",
        "  return wordColor  "
      ],
      "execution_count": 4,
      "outputs": []
    },
    {
      "cell_type": "code",
      "metadata": {
        "id": "Wv2kwRF_RMtK"
      },
      "source": [
        "# Фукнция получения цветного слова \n",
        "def getColor(word, color):\n",
        "  fg.color = Style(RgbFg(color[0], color[1], color[2]))\n",
        "  wordColor = fg.color + word\n",
        "  return wordColor\n"
      ],
      "execution_count": 125,
      "outputs": []
    },
    {
      "cell_type": "code",
      "metadata": {
        "id": "4nwogUdidfyG"
      },
      "source": [
        "# Вывод слова в его цвете\n",
        "def printColor(word, color):\n",
        "  fg.color = Style(RgbFg(color[0], color[1], color[2]))\n",
        "  wordColor = fg.color + word\n",
        "  print(wordColor, end=' ', flush=True)"
      ],
      "execution_count": 5,
      "outputs": []
    },
    {
      "cell_type": "code",
      "metadata": {
        "id": "AoUwweE1gItW"
      },
      "source": [
        "# Чтение текста из файла\n",
        "def readTxt(filename):\n",
        "  with open(filename) as f:\n",
        "    lines = f.readlines()\n",
        "  return lines"
      ],
      "execution_count": 6,
      "outputs": []
    },
    {
      "cell_type": "code",
      "metadata": {
        "id": "SchAJhvnglKT"
      },
      "source": [
        "# Разбитие текста на строчки\n",
        "def textWords(filename):\n",
        "  lines = readTxt(filename)\n",
        "  lineList = []\n",
        "  for line in lines:\n",
        "    line = re.sub('[\\]\\()[,;:\\–\\«\\-!»?@#.$]', '', line)\n",
        "    line = word_tokenize(line, language=\"russian\")    \n",
        "    lineList.append(line)    \n",
        "  return lineList"
      ],
      "execution_count": 7,
      "outputs": []
    },
    {
      "cell_type": "code",
      "metadata": {
        "id": "m1CHNbolf21Z"
      },
      "source": [
        "# Вывод текста в цвете\n",
        "def printText(wordList):\n",
        "  colorArray = np.array([[0,0,0]])\n",
        "  colorArray = np.delete(colorArray, 0, 0)\n",
        "  for i in range(len(wordList)):\n",
        "    wordList[i] = wordList[i].lower()\n",
        "    color = colorWord(wordList[i])\n",
        "    colorArray = np.append(colorArray, [color], axis=0)\n",
        "    printColor(wordList[i], color)    \n",
        "  return colorArray"
      ],
      "execution_count": 8,
      "outputs": []
    },
    {
      "cell_type": "markdown",
      "metadata": {
        "id": "m1AJqWtC9ZYv"
      },
      "source": [
        "Задаем rgb цвета для гласных\n"
      ]
    },
    {
      "cell_type": "code",
      "metadata": {
        "id": "6HWGbDr9onOc"
      },
      "source": [
        "a = np.array([153, 0, 0])\n",
        "ya = np.array([255, 0, 0])\n",
        "o = np.array([255, 255, 204])\n",
        "e = np.array([0, 153, 0])\n",
        "i = np.array([0, 0, 153])\n",
        "yi = np.array([24, 127, 171])\n",
        "u = np.array([153, 0, 204])\n",
        "yu = np.array([158, 190, 255])\n",
        "any = np.array([0, 0, 0])"
      ],
      "execution_count": 116,
      "outputs": []
    },
    {
      "cell_type": "code",
      "metadata": {
        "id": "TBU0TMMzp2Vm"
      },
      "source": [
        "alphabet = {'а': a, 'е': e, 'ё': e, 'и': i, 'й': yi, 'о': o, 'у': u, 'ю': yu, 'я': ya, 'ы': any}"
      ],
      "execution_count": 10,
      "outputs": []
    },
    {
      "cell_type": "code",
      "metadata": {
        "id": "0v548-XV4Wuz"
      },
      "source": [
        "# Поиск ближайшего цвета\n",
        "def closest_color(rgb, COLORS):\n",
        "    r, g, b = rgb\n",
        "    color_diffs = []\n",
        "    for color in COLORS:\n",
        "        cr, cg, cb = color\n",
        "        color_diff = sqrt(abs(r - cr)**2 + abs(g - cg)**2 + abs(b - cb)**2)\n",
        "        color_diffs.append((color_diff, color))\n",
        "    return min(color_diffs)[1]"
      ],
      "execution_count": 11,
      "outputs": []
    },
    {
      "cell_type": "code",
      "metadata": {
        "id": "gmbDCIJi4lnS"
      },
      "source": [
        "# Вывод текста в N цветах\n",
        "def printTextCluster(wordList, COLORS):\n",
        "  for i in range(len(wordList)):\n",
        "    wordList[i] = wordList[i].lower()\n",
        "    color = colorWord(wordList[i])\n",
        "    color = closest_color(color, COLORS)\n",
        "    printColor(wordList[i], color)"
      ],
      "execution_count": 12,
      "outputs": []
    },
    {
      "cell_type": "code",
      "metadata": {
        "id": "kQrWTJkAp4AK"
      },
      "source": [
        "frequencyText = {'а': 0, 'е': 0, 'ё': 0, 'и': 0, 'й': 0, 'о': 0, 'у': 0, 'ю': 0, 'я': 0, 'ы': 0}\n",
        "frequencyStandart = {'а': 0.116, 'е': 0.102, 'ё': 0, 'и': 0.077, 'й': 0, 'о': 0.126, 'у': 0.040, 'ю': 0, 'я': 0, 'ы': 0.024}"
      ],
      "execution_count": 13,
      "outputs": []
    },
    {
      "cell_type": "markdown",
      "metadata": {
        "id": "yMYHCO7if0SJ"
      },
      "source": [
        "Посчитаем частоту гласных звуков"
      ]
    },
    {
      "cell_type": "code",
      "metadata": {
        "id": "bNmLLFs4rMMF"
      },
      "source": [
        "# Словарь с количеством букв в тексте\n",
        "def letterFreq(lineList):\n",
        "  all_freq = {}\n",
        "  R = 0\n",
        "  for line in lineList: \n",
        "    for word in line:\n",
        "      for i in word:\n",
        "       # i.lower()\n",
        "        R += 1\n",
        "        if i in all_freq: \n",
        "            all_freq[i] += 1\n",
        "        else: \n",
        "            all_freq[i] = 1\n",
        "\n",
        "  print('Всего звукобукв в тексте: ', R)\n",
        "  freqText = {'а': 0, 'е': 0, 'ё': 0, 'и': 0, 'й': 0, 'о': 0, 'у': 0, 'ю': 0, 'я': 0, 'ы': 0}\n",
        "  freqText = {k: freqText.get(k, 0) + all_freq.get(k, 0) for k in set(freqText)}\n",
        "  print(freqText)\n",
        "  df = pd.DataFrame(columns=['Звукобуква', 'Pi', 'Pin', 'S', 'Z', 'Цвет'])\n",
        "  df['Звукобуква'] = ['О+0.5 Ё', 'А+Я', \"Е+0.5 Ё\", \"И+0.5 Й\", \"У + Ю\", \"Ы\"]\n",
        "  df['Pin'] = [0.126, 0.116, 0.102, 0.077, 0.040, 0.024]\n",
        "  df['S'] = (1 - df.Pin) * df.Pin / R\n",
        "  df['S'] = round(df['S'].apply(np.sqrt), 3)\n",
        "\n",
        "  freqText['о'] = round((0.5 * freqText['ё'] + freqText['о']) / R, 3)\n",
        "  freqText['а'] = round((freqText['а'] + freqText['я']) / R, 3)\n",
        "  freqText['е'] = round((freqText['е'] + 0.5 * freqText['ё']) / R, 3)\n",
        "  freqText['и'] = round((freqText['и'] + 0.5 * freqText['й']) / R, 3)\n",
        "  freqText['у'] = round((freqText['у'] + 0.5 * freqText['ю']) / R, 3)\n",
        "  freqText['ы'] = round(freqText['ы'] / R, 3)\n",
        "  df['Pi'] = [freqText['о'], freqText['а'], freqText['е'], freqText['и'], freqText['у'], freqText['ы']]\n",
        "  df['Z'] = round((df['Pi'] - df['Pin']) / df['S'], 2)\n",
        "  df['Цвет'] = ['бело-желтый', 'красный', 'зеленый', 'синий', 'фиолетовый', 'черный']\n",
        "  print(df)\n",
        "  return freqText"
      ],
      "execution_count": 156,
      "outputs": []
    },
    {
      "cell_type": "code",
      "metadata": {
        "id": "bd59OWVG5a-s"
      },
      "source": [
        "# Тест программы\n",
        "# на вход название файла и кол-во кластеров (сколько сделать разных цветов)\n",
        "def colorSemantic(filename, nClusters):  \n",
        "  lineList = textWords(filename) \n",
        "  colorArray = np.array([[0,0,0]])\n",
        "  colorArray = np.delete(colorArray, 0, 0)\n",
        "  title =  ef.italic + 'Каждому слову свой цвет\\n' + rs.italic\n",
        "  print(title)  \n",
        "  for line in lineList:     \n",
        "    colorArray = np.append(colorArray, printText(line), axis=0)\n",
        "    print()\n",
        "  title =  fg.black + ef.italic + '\\nВ тексте нашлось ' +str(len(colorArray))+' цветов\\n' + rs.italic\n",
        "  print(title) \n",
        "  kmeans = KMeans(n_clusters=nClusters, random_state=0).fit(colorArray)\n",
        "  kmeans.cluster_centers_ = np.round(kmeans.cluster_centers_).astype(int)\n",
        "  COLORS = kmeans.cluster_centers_  \n",
        "  subtitle = fg.black + ef.italic + 'Текст в '+str(nClusters)+' цветах:\\n' + rs.italic\n",
        "  print(subtitle)\n",
        "  for line in lineList:     \n",
        "    printTextCluster(line, COLORS)\n",
        "    print()\n",
        "  subtitle = fg.black + ef.italic + '\\nТаблица частотности:\\n' + rs.italic\n",
        "  print(subtitle)\n",
        "  all_freq = letterFreq(lineList)  "
      ],
      "execution_count": 153,
      "outputs": []
    },
    {
      "cell_type": "code",
      "metadata": {
        "colab": {
          "base_uri": "https://localhost:8080/"
        },
        "id": "ra7G9vTt63G-",
        "outputId": "c23632e3-6d85-4590-f1cc-464b0794592a"
      },
      "source": [
        "filename = 'листопад.txt'\n",
        "colorSemantic(filename, 3)"
      ],
      "execution_count": 165,
      "outputs": [
        {
          "output_type": "stream",
          "text": [
            "\u001b[3mКаждому слову свой цвет\n",
            "\u001b[23m\n",
            "\u001b[38;2;0;153;0mвсе \u001b[38;2;136;85;119mразошлись \u001b[38;2;153;0;0mна \u001b[38;2;136;136;68mпрощанье \u001b[38;2;187;85;68mосталась \n",
            "\u001b[38;2;255;255;204mоторопь \u001b[38;2;93;178;125mжелтой \u001b[38;2;0;0;76mлиствы \u001b[38;2;153;0;0mза \u001b[38;2;255;255;204mокном \n",
            "\u001b[38;2;255;255;204mвот \u001b[38;2;0;0;153mи \u001b[38;2;187;85;68mосталась \u001b[38;2;0;153;0mмне \u001b[38;2;187;0;0mсамая \u001b[38;2;204;128;102mмалость \n",
            "\u001b[38;2;221;170;136mшороха \u001b[38;2;85;136;119mосени \u001b[38;2;0;0;0mв \u001b[38;2;128;204;102mдоме \u001b[38;2;128;204;102mмоем \n",
            "\u001b[38;2;136;85;68mвыпало \u001b[38;2;128;204;102mлето \u001b[38;2;197;223;196mхолодной \u001b[38;2;134;159;183mиголкой \u001b[38;2;0;0;153mиз \u001b[38;2;107;189;116mонемелой \u001b[38;2;76;0;178mруки \u001b[38;2;0;0;102mтишины \n",
            "\u001b[38;2;0;0;153mи \u001b[38;2;204;128;102mзапропало \u001b[38;2;0;0;0mв \u001b[38;2;136;136;68mпотемках \u001b[38;2;153;0;0mза \u001b[38;2;178;212;193mполкой \n",
            "\u001b[38;2;153;0;0mза \u001b[38;2;148;76;157mштукатуркой \u001b[38;2;70;96;132mмышиной \u001b[38;2;0;76;0mстены \n",
            "\u001b[38;2;0;76;76mесли \u001b[38;2;136;0;51mсчитаться \u001b[38;2;76;76;0mначнем \u001b[38;2;255;0;0mя \u001b[38;2;0;153;0mне \u001b[38;2;76;76;0mвправе \n",
            "\u001b[38;2;76;76;0mдаже \u001b[38;2;153;0;0mна \u001b[38;2;255;255;204mэтот \u001b[38;2;204;128;102mпожар \u001b[38;2;153;0;0mза \u001b[38;2;255;255;204mокном \n",
            "\u001b[38;2;128;204;102mверно \u001b[38;2;0;153;0mеще \u001b[38;2;112;31;0mрассыпается \u001b[38;2;59;42;108mгравий \n",
            "\u001b[38;2;255;255;204mпод \u001b[38;2;191;191;153mосторожным \u001b[38;2;0;153;0mее \u001b[38;2;187;85;136mкаблуком \n",
            "\u001b[38;2;153;0;0mтам \u001b[38;2;0;0;0mв \u001b[38;2;230;191;153mзаоконном \u001b[38;2;170;221;136mтревожном \u001b[38;2;170;221;136mпокое \n",
            "\u001b[38;2;0;153;0mвне \u001b[38;2;170;221;136mмоего \u001b[38;2;85;0;51mбытия \u001b[38;2;0;0;153mи \u001b[38;2;128;0;76mжилья \n",
            "\u001b[38;2;0;0;0mв \u001b[38;2;128;204;102mжелтом \u001b[38;2;0;0;153mи \u001b[38;2;0;76;76mсинем \u001b[38;2;0;0;153mи \u001b[38;2;204;128;102mкрасном \u001b[38;2;153;0;0mна \u001b[38;2;255;255;204mчто \u001b[38;2;12;140;86mей \n",
            "\u001b[38;2;204;0;0mпамять \u001b[38;2;255;128;102mмоя \u001b[38;2;255;255;204mчто \u001b[38;2;12;140;86mей \u001b[38;2;204;0;0mпамять \u001b[38;2;255;128;102mмоя \n",
            "\u001b[30m\u001b[3m\n",
            "В тексте нашлось 84 цветов\n",
            "\u001b[23m\n",
            "\u001b[30m\u001b[3mТекст в 3 цветах:\n",
            "\u001b[23m\n",
            "\u001b[38;2;18;64;65mвсе \u001b[38;2;189;186;142mразошлись \u001b[38;2;160;15;20mна \u001b[38;2;189;186;142mпрощанье \u001b[38;2;160;15;20mосталась \n",
            "\u001b[38;2;189;186;142mоторопь \u001b[38;2;189;186;142mжелтой \u001b[38;2;18;64;65mлиствы \u001b[38;2;160;15;20mза \u001b[38;2;189;186;142mокном \n",
            "\u001b[38;2;189;186;142mвот \u001b[38;2;18;64;65mи \u001b[38;2;160;15;20mосталась \u001b[38;2;18;64;65mмне \u001b[38;2;160;15;20mсамая \u001b[38;2;189;186;142mмалость \n",
            "\u001b[38;2;189;186;142mшороха \u001b[38;2;18;64;65mосени \u001b[38;2;18;64;65mв \u001b[38;2;189;186;142mдоме \u001b[38;2;189;186;142mмоем \n",
            "\u001b[38;2;160;15;20mвыпало \u001b[38;2;189;186;142mлето \u001b[38;2;189;186;142mхолодной \u001b[38;2;189;186;142mиголкой \u001b[38;2;18;64;65mиз \u001b[38;2;189;186;142mонемелой \u001b[38;2;18;64;65mруки \u001b[38;2;18;64;65mтишины \n",
            "\u001b[38;2;18;64;65mи \u001b[38;2;189;186;142mзапропало \u001b[38;2;18;64;65mв \u001b[38;2;189;186;142mпотемках \u001b[38;2;160;15;20mза \u001b[38;2;189;186;142mполкой \n",
            "\u001b[38;2;160;15;20mза \u001b[38;2;189;186;142mштукатуркой \u001b[38;2;18;64;65mмышиной \u001b[38;2;18;64;65mстены \n",
            "\u001b[38;2;18;64;65mесли \u001b[38;2;160;15;20mсчитаться \u001b[38;2;18;64;65mначнем \u001b[38;2;160;15;20mя \u001b[38;2;18;64;65mне \u001b[38;2;18;64;65mвправе \n",
            "\u001b[38;2;18;64;65mдаже \u001b[38;2;160;15;20mна \u001b[38;2;189;186;142mэтот \u001b[38;2;189;186;142mпожар \u001b[38;2;160;15;20mза \u001b[38;2;189;186;142mокном \n",
            "\u001b[38;2;189;186;142mверно \u001b[38;2;18;64;65mеще \u001b[38;2;160;15;20mрассыпается \u001b[38;2;18;64;65mгравий \n",
            "\u001b[38;2;189;186;142mпод \u001b[38;2;189;186;142mосторожным \u001b[38;2;18;64;65mее \u001b[38;2;189;186;142mкаблуком \n",
            "\u001b[38;2;160;15;20mтам \u001b[38;2;18;64;65mв \u001b[38;2;189;186;142mзаоконном \u001b[38;2;189;186;142mтревожном \u001b[38;2;189;186;142mпокое \n",
            "\u001b[38;2;18;64;65mвне \u001b[38;2;189;186;142mмоего \u001b[38;2;160;15;20mбытия \u001b[38;2;18;64;65mи \u001b[38;2;160;15;20mжилья \n",
            "\u001b[38;2;18;64;65mв \u001b[38;2;189;186;142mжелтом \u001b[38;2;18;64;65mи \u001b[38;2;18;64;65mсинем \u001b[38;2;18;64;65mи \u001b[38;2;189;186;142mкрасном \u001b[38;2;160;15;20mна \u001b[38;2;189;186;142mчто \u001b[38;2;18;64;65mей \n",
            "\u001b[38;2;160;15;20mпамять \u001b[38;2;189;186;142mмоя \u001b[38;2;189;186;142mчто \u001b[38;2;18;64;65mей \u001b[38;2;160;15;20mпамять \u001b[38;2;189;186;142mмоя \n",
            "\u001b[30m\u001b[3m\n",
            "Таблица частотности:\n",
            "\u001b[23m\n",
            "Всего звукобукв в тексте:  395\n",
            "{'ё': 0, 'и': 20, 'е': 31, 'ю': 0, 'о': 58, 'й': 10, 'ы': 8, 'я': 10, 'у': 4, 'а': 36}\n",
            "  Звукобуква     Pi    Pin      S     Z         Цвет\n",
            "0    О+0.5 Ё  0.147  0.126  0.017  1.24  бело-желтый\n",
            "1        А+Я  0.116  0.116  0.016  0.00      красный\n",
            "2    Е+0.5 Ё  0.078  0.102  0.015 -1.60      зеленый\n",
            "3    И+0.5 Й  0.063  0.077  0.013 -1.08        синий\n",
            "4      У + Ю  0.010  0.040  0.010 -3.00   фиолетовый\n",
            "5          Ы  0.020  0.024  0.008 -0.50       черный\n"
          ],
          "name": "stdout"
        }
      ]
    }
  ]
}