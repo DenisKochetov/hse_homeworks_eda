{
  "nbformat": 4,
  "nbformat_minor": 0,
  "metadata": {
    "colab": {
      "provenance": []
    },
    "kernelspec": {
      "name": "python3",
      "display_name": "Python 3"
    },
    "language_info": {
      "name": "python"
    }
  },
  "cells": [
    {
      "cell_type": "markdown",
      "metadata": {
        "id": "2VhCk9Gd2rNm"
      },
      "source": [
        "Программа для поиска самого выгодного арбитража на биржах криптовалют"
      ]
    },
    {
      "cell_type": "code",
      "metadata": {
        "colab": {
          "base_uri": "https://localhost:8080/"
        },
        "id": "_RjIY3r8tVH1",
        "outputId": "9b1d4aa7-94ec-4b44-8a80-e2274473f51b"
      },
      "source": [
        "!pip install ccxt"
      ],
      "execution_count": null,
      "outputs": [
        {
          "output_type": "stream",
          "text": [
            "Requirement already satisfied: ccxt in /usr/local/lib/python3.7/dist-packages (1.45.79)\n",
            "Requirement already satisfied: setuptools>=38.5.1 in /usr/local/lib/python3.7/dist-packages (from ccxt) (54.2.0)\n",
            "Requirement already satisfied: certifi>=2018.1.18 in /usr/local/lib/python3.7/dist-packages (from ccxt) (2020.12.5)\n",
            "Requirement already satisfied: aiohttp<3.8,>=3.7.4; python_version >= \"3.5.2\" in /usr/local/lib/python3.7/dist-packages (from ccxt) (3.7.4.post0)\n",
            "Requirement already satisfied: cryptography>=2.6.1 in /usr/local/lib/python3.7/dist-packages (from ccxt) (3.4.7)\n",
            "Requirement already satisfied: aiodns<2.1,>=1.1.1; python_version >= \"3.5.2\" in /usr/local/lib/python3.7/dist-packages (from ccxt) (2.0.0)\n",
            "Requirement already satisfied: yarl==1.1.0; python_version >= \"3.5.2\" in /usr/local/lib/python3.7/dist-packages (from ccxt) (1.1.0)\n",
            "Requirement already satisfied: requests>=2.18.4 in /usr/local/lib/python3.7/dist-packages (from ccxt) (2.23.0)\n",
            "Requirement already satisfied: chardet<5.0,>=2.0 in /usr/local/lib/python3.7/dist-packages (from aiohttp<3.8,>=3.7.4; python_version >= \"3.5.2\"->ccxt) (3.0.4)\n",
            "Requirement already satisfied: typing-extensions>=3.6.5 in /usr/local/lib/python3.7/dist-packages (from aiohttp<3.8,>=3.7.4; python_version >= \"3.5.2\"->ccxt) (3.7.4.3)\n",
            "Requirement already satisfied: async-timeout<4.0,>=3.0 in /usr/local/lib/python3.7/dist-packages (from aiohttp<3.8,>=3.7.4; python_version >= \"3.5.2\"->ccxt) (3.0.1)\n",
            "Requirement already satisfied: multidict<7.0,>=4.5 in /usr/local/lib/python3.7/dist-packages (from aiohttp<3.8,>=3.7.4; python_version >= \"3.5.2\"->ccxt) (5.1.0)\n",
            "Requirement already satisfied: attrs>=17.3.0 in /usr/local/lib/python3.7/dist-packages (from aiohttp<3.8,>=3.7.4; python_version >= \"3.5.2\"->ccxt) (20.3.0)\n",
            "Requirement already satisfied: cffi>=1.12 in /usr/local/lib/python3.7/dist-packages (from cryptography>=2.6.1->ccxt) (1.14.5)\n",
            "Requirement already satisfied: pycares>=3.0.0 in /usr/local/lib/python3.7/dist-packages (from aiodns<2.1,>=1.1.1; python_version >= \"3.5.2\"->ccxt) (3.1.1)\n",
            "Requirement already satisfied: idna>=2.0 in /usr/local/lib/python3.7/dist-packages (from yarl==1.1.0; python_version >= \"3.5.2\"->ccxt) (2.10)\n",
            "Requirement already satisfied: urllib3!=1.25.0,!=1.25.1,<1.26,>=1.21.1 in /usr/local/lib/python3.7/dist-packages (from requests>=2.18.4->ccxt) (1.24.3)\n",
            "Requirement already satisfied: pycparser in /usr/local/lib/python3.7/dist-packages (from cffi>=1.12->cryptography>=2.6.1->ccxt) (2.20)\n"
          ],
          "name": "stdout"
        }
      ]
    },
    {
      "cell_type": "code",
      "metadata": {
        "id": "3ev3Vj7l0vff"
      },
      "source": [
        "import ccxt"
      ],
      "execution_count": null,
      "outputs": []
    },
    {
      "cell_type": "code",
      "metadata": {
        "id": "q5TLreMuZdrj"
      },
      "source": [
        "import pandas as pd\n",
        "import numpy as np\n",
        "import datetime"
      ],
      "execution_count": null,
      "outputs": []
    },
    {
      "cell_type": "code",
      "metadata": {
        "id": "E8iyzGIfSv5o"
      },
      "source": [
        "# название рынка и название символа\n",
        "def get_candles(market, symbol):\n",
        "  import ccxt\n",
        "  exchange = getattr(ccxt, market)({ 'enableRateLimit': True })\n",
        "  candles = exchange.fetch_ohlcv(symbol, '1m')\n",
        "  df1 = pd.DataFrame(candles, columns=['ts', symbol+'-open', symbol+'-high', symbol+'-low', symbol+'-close', 'volume'])\n",
        "  return df1"
      ],
      "execution_count": null,
      "outputs": []
    },
    {
      "cell_type": "code",
      "metadata": {
        "id": "pShSxFMzTuJA"
      },
      "source": [
        "# На вход два df и коэффициент сравнения\n",
        "def compare_pairs(df1, df2, coeff, symbol):  \n",
        "  df = df1.merge(df2, on='ts')\n",
        "  res = pd.DataFrame()\n",
        "  res = df[['ts', symbol+'-close_x', symbol+'-close_y']][abs(df[symbol+'-close_x']  - df[symbol+'-close_y']) > (0.0001 * df[symbol+'-close_x'])]\n",
        "  res['profit1'] = (abs(res[symbol+'-close_x'] - res[symbol+'-close_y'])) / res[symbol+'-close_x'] \n",
        "  res['profit2'] = (abs(res[symbol+'-close_x'] - res[symbol+'-close_y'])) / res[symbol+'-close_y'] \n",
        "  res = res[(res['profit1'] > coeff) | (res['profit2'] > coeff)]\n",
        "  res['profit'] = np.where(res.profit1 > res.profit2, abs(res[symbol+'-close_x']) * (res.profit1 - coeff),  abs(res[symbol+'-close_y']) * (res.profit2 - coeff))\n",
        "  res['ts'] = pd.to_datetime(res['ts'],unit='ms')\n",
        "  utc = 18000 \n",
        "  res.ts = res.ts + datetime.timedelta(0, utc)\n",
        "  result = res[['ts', symbol+'-close_x', symbol+'-close_y', 'profit']]\n",
        "  sexy = 0\n",
        "  if len(result) > 0:\n",
        "    print(result)\n",
        "    prof = round(sum(result.profit), 4)\n",
        "    sexy = prof / len(result)\n",
        "    print('Прибыль:', prof, symbol)\n",
        "    print('Прибыль / кол-во сделок:', str(sexy))   \n",
        "    \n",
        "  else: \n",
        "    print('No profit')\n",
        "  \n",
        "  return sexy"
      ],
      "execution_count": null,
      "outputs": []
    },
    {
      "cell_type": "code",
      "metadata": {
        "id": "VWxIZkWEXEVT"
      },
      "source": [
        "def find_profit(market1, market2, symbol, coeff):\n",
        "  df1 = get_candles(market1, symbol)  \n",
        "  df2 = get_candles(market2, symbol)  \n",
        "  return compare_pairs(df1, df2, coeff, symbol)"
      ],
      "execution_count": null,
      "outputs": []
    },
    {
      "cell_type": "code",
      "metadata": {
        "id": "mpMCVpIhZygi"
      },
      "source": [
        "symbols = ['ETH/BTC', 'ETH/EUR', 'XRP/USDT', 'LTC/USDT', 'ETH/USDT']"
      ],
      "execution_count": null,
      "outputs": []
    },
    {
      "cell_type": "code",
      "metadata": {
        "id": "NzqJVA0jlj2k"
      },
      "source": [
        "markets = ['kraken', 'binance', 'ftx']"
      ],
      "execution_count": null,
      "outputs": []
    },
    {
      "cell_type": "code",
      "metadata": {
        "colab": {
          "base_uri": "https://localhost:8080/"
        },
        "id": "soN8GuthlqF0",
        "outputId": "cf09ae1d-fc38-4abf-db5d-f0dee6ba8184"
      },
      "source": [
        "best = 0\n",
        "top_pair = []\n",
        "for i in range(len(markets)-1):\n",
        "  market1 = markets[i]\n",
        "  for j in range(i+1, len(markets)):\n",
        "    market2 = markets[j]     \n",
        "    print(market1, market2) \n",
        "    for s in symbols:\n",
        "      print(s)\n",
        "      check = find_profit(market1, market2, s, 0.002)\n",
        "      if check > best:\n",
        "        best = check\n",
        "        top_pair = [market1, market2, s]\n",
        "print('Сегодня настроим бота на рынки: ' + str(top_pair[0]), str(top_pair[1]) +' на пару '+str(top_pair[2]))  \n"
      ],
      "execution_count": null,
      "outputs": [
        {
          "output_type": "stream",
          "text": [
            "kraken binance\n",
            "ETH/BTC\n",
            "No profit\n",
            "ETH/EUR\n",
            "                     ts  ETH/EUR-close_x  ETH/EUR-close_y   profit\n",
            "24  2021-04-01 17:01:00          1634.03          1637.65  0.35194\n",
            "404 2021-04-01 23:21:00          1615.00          1618.39  0.16000\n",
            "Прибыль: 0.5119 ETH/EUR\n",
            "Прибыль / кол-во сделок: 0.25595\n",
            "XRP/USDT\n",
            "                     ts  XRP/USDT-close_x  XRP/USDT-close_y    profit\n",
            "9   2021-04-01 16:47:00           0.55852           0.55704  0.000366\n",
            "11  2021-04-01 16:49:00           0.55708           0.55842  0.000226\n",
            "19  2021-04-01 16:57:00           0.55704           0.55860  0.000446\n",
            "20  2021-04-01 16:58:00           0.55852           0.55732  0.000085\n",
            "22  2021-04-01 17:00:00           0.55585           0.55404  0.000702\n",
            "..                  ...               ...               ...       ...\n",
            "467 2021-04-02 00:25:00           0.56581           0.56376  0.000922\n",
            "468 2021-04-02 00:26:00           0.56581           0.56393  0.000752\n",
            "469 2021-04-02 00:27:00           0.56581           0.56393  0.000752\n",
            "470 2021-04-02 00:28:00           0.56581           0.56440  0.000281\n",
            "482 2021-04-02 00:40:00           0.56539           0.56673  0.000209\n",
            "\n",
            "[202 rows x 4 columns]\n",
            "Прибыль: 0.2733 XRP/USDT\n",
            "Прибыль / кол-во сделок: 0.001352970297029703\n",
            "LTC/USDT\n",
            "                     ts  LTC/USDT-close_x  LTC/USDT-close_y    profit\n",
            "20  2021-04-01 16:58:00         195.89012            196.30  0.018100\n",
            "24  2021-04-01 17:02:00         195.54717            196.07  0.131736\n",
            "25  2021-04-01 17:03:00         195.54717            196.21  0.271736\n",
            "26  2021-04-01 17:04:00         195.54717            196.01  0.071736\n",
            "27  2021-04-01 17:05:00         195.54717            196.29  0.351736\n",
            "..                  ...               ...               ...       ...\n",
            "495 2021-04-02 00:53:00         201.20000            201.74  0.137600\n",
            "496 2021-04-02 00:54:00         201.20000            201.68  0.077600\n",
            "497 2021-04-02 00:55:00         201.20000            201.89  0.287600\n",
            "498 2021-04-02 00:56:00         201.20000            201.78  0.177600\n",
            "499 2021-04-02 00:57:00         201.20000            201.80  0.197600\n",
            "\n",
            "[192 rows x 4 columns]\n",
            "Прибыль: 67.454 LTC/USDT\n",
            "Прибыль / кол-во сделок: 0.35132291666666665\n",
            "ETH/USDT\n",
            "                     ts  ETH/USDT-close_x  ETH/USDT-close_y   profit\n",
            "6   2021-04-01 16:44:00           1920.00           1925.66  1.82000\n",
            "7   2021-04-01 16:45:00           1920.00           1924.22  0.38000\n",
            "22  2021-04-01 17:00:00           1920.36           1914.02  2.51196\n",
            "25  2021-04-01 17:03:00           1920.50           1924.55  0.20900\n",
            "37  2021-04-01 17:15:00           1923.00           1918.60  0.56280\n",
            "38  2021-04-01 17:16:00           1923.00           1918.76  0.40248\n",
            "66  2021-04-01 17:44:00           1919.29           1914.99  0.47002\n",
            "80  2021-04-01 17:58:00           1918.38           1923.62  1.40324\n",
            "93  2021-04-01 18:11:00           1933.48           1929.03  0.59194\n",
            "148 2021-04-01 19:06:00           1929.00           1924.21  0.94158\n",
            "234 2021-04-01 20:32:00           1936.43           1941.51  1.20714\n",
            "239 2021-04-01 20:37:00           1941.81           1937.62  0.31476\n",
            "241 2021-04-01 20:39:00           1941.81           1936.45  1.48710\n",
            "255 2021-04-01 20:53:00           1940.13           1944.24  0.22974\n",
            "256 2021-04-01 20:54:00           1940.13           1945.87  1.85974\n",
            "266 2021-04-01 21:04:00           1952.17           1947.20  1.07560\n",
            "267 2021-04-01 21:05:00           1952.17           1940.72  7.56856\n",
            "278 2021-04-01 21:16:00           1946.98           1951.84  0.96604\n",
            "282 2021-04-01 21:20:00           1946.98           1942.31  0.78538\n",
            "299 2021-04-01 21:37:00           1945.53           1939.79  1.86042\n",
            "309 2021-04-01 21:47:00           1939.79           1944.08  0.41042\n",
            "310 2021-04-01 21:48:00           1939.79           1944.69  1.02042\n",
            "311 2021-04-01 21:49:00           1939.79           1945.12  1.45042\n",
            "312 2021-04-01 21:50:00           1939.79           1946.10  2.43042\n",
            "316 2021-04-01 21:54:00           1947.77           1943.75  0.13250\n",
            "351 2021-04-01 22:29:00           1953.85           1959.55  1.79230\n",
            "370 2021-04-01 22:48:00           1958.00           1953.92  0.17216\n",
            "372 2021-04-01 22:50:00           1956.00           1951.51  0.58698\n",
            "384 2021-04-01 23:02:00           1940.31           1935.74  0.69852\n",
            "388 2021-04-01 23:06:00           1940.31           1934.91  1.53018\n",
            "390 2021-04-01 23:08:00           1934.99           1931.00  0.12800\n",
            "401 2021-04-01 23:19:00           1890.59           1886.22  0.59756\n",
            "418 2021-04-01 23:36:00           1953.81           1958.23  0.51238\n",
            "422 2021-04-01 23:40:00           1953.40           1945.72  3.78856\n",
            "424 2021-04-01 23:42:00           1946.58           1950.90  0.42684\n",
            "427 2021-04-01 23:45:00           1952.40           1957.76  1.45520\n",
            "434 2021-04-01 23:52:00           1969.84           1965.17  0.73966\n",
            "435 2021-04-01 23:53:00           1969.84           1965.27  0.63946\n",
            "436 2021-04-01 23:54:00           1969.84           1963.34  2.57332\n",
            "443 2021-04-02 00:01:00           1970.47           1965.71  0.82858\n",
            "457 2021-04-02 00:15:00           1978.97           1973.91  1.11218\n",
            "480 2021-04-02 00:38:00           1962.11           1966.17  0.13578\n",
            "481 2021-04-02 00:39:00           1962.11           1968.11  2.07578\n",
            "487 2021-04-02 00:45:00           1972.73           1977.72  1.04454\n",
            "Прибыль: 52.9297 ETH/USDT\n",
            "Прибыль / кол-во сделок: 1.2029477272727271\n",
            "kraken ftx\n",
            "ETH/BTC\n",
            "                     ts  ETH/BTC-close_x  ETH/BTC-close_y    profit\n",
            "243 2021-04-01 17:01:00          0.03275         0.032828  0.000012\n",
            "Прибыль: 0.0 ETH/BTC\n",
            "Прибыль / кол-во сделок: 0.0\n",
            "ETH/EUR\n",
            "                     ts  ETH/EUR-close_x  ETH/EUR-close_y   profit\n",
            "0   2021-04-01 12:58:00          1641.36           1646.1  1.45728\n",
            "1   2021-04-01 12:59:00          1640.50           1646.1  2.31900\n",
            "6   2021-04-01 13:04:00          1644.99           1649.1  0.82002\n",
            "7   2021-04-01 13:05:00          1644.63           1649.1  1.18074\n",
            "8   2021-04-01 13:06:00          1645.34           1649.1  0.46932\n",
            "..                  ...              ...              ...      ...\n",
            "698 2021-04-02 00:36:00          1670.00           1675.3  1.96000\n",
            "699 2021-04-02 00:37:00          1667.59           1675.2  4.27482\n",
            "700 2021-04-02 00:38:00          1669.89           1675.3  2.07022\n",
            "701 2021-04-02 00:39:00          1670.21           1675.3  1.74958\n",
            "702 2021-04-02 00:40:00          1670.77           1675.3  1.18846\n",
            "\n",
            "[334 rows x 4 columns]\n",
            "Прибыль: 723.0162 ETH/EUR\n",
            "Прибыль / кол-во сделок: 2.1647191616766466\n",
            "XRP/USDT\n",
            "                     ts  XRP/USDT-close_x  XRP/USDT-close_y    profit\n",
            "0   2021-04-01 12:58:00           0.56859          0.570100  0.000373\n",
            "1   2021-04-01 12:59:00           0.56859          0.570100  0.000373\n",
            "2   2021-04-01 13:00:00           0.56859          0.570100  0.000373\n",
            "12  2021-04-01 13:10:00           0.57045          0.569200  0.000112\n",
            "19  2021-04-01 13:17:00           0.57016          0.572050  0.000750\n",
            "..                  ...               ...               ...       ...\n",
            "701 2021-04-02 00:39:00           0.56539          0.566900  0.000379\n",
            "702 2021-04-02 00:40:00           0.56539          0.566900  0.000379\n",
            "703 2021-04-02 00:41:00           0.56539          0.566875  0.000354\n",
            "704 2021-04-02 00:42:00           0.56539          0.566900  0.000379\n",
            "716 2021-04-02 00:54:00           0.56483          0.566175  0.000215\n",
            "\n",
            "[281 rows x 4 columns]\n",
            "Прибыль: 0.3498 XRP/USDT\n",
            "Прибыль / кол-во сделок: 0.0012448398576512456\n",
            "LTC/USDT\n",
            "                     ts  LTC/USDT-close_x  LTC/USDT-close_y    profit\n",
            "7   2021-04-01 13:05:00         197.50000           196.715  0.391570\n",
            "8   2021-04-01 13:06:00         197.50000           197.010  0.095980\n",
            "9   2021-04-01 13:07:00         197.50000           197.045  0.060910\n",
            "18  2021-04-01 13:16:00         197.04947           197.475  0.031431\n",
            "19  2021-04-01 13:17:00         197.04947           197.850  0.406431\n",
            "..                  ...               ...               ...       ...\n",
            "715 2021-04-02 00:53:00         201.20000           201.750  0.147600\n",
            "716 2021-04-02 00:54:00         201.20000           201.605  0.002600\n",
            "717 2021-04-02 00:55:00         201.20000           201.755  0.152600\n",
            "718 2021-04-02 00:56:00         201.20000           201.715  0.112600\n",
            "719 2021-04-02 00:57:00         201.20000           201.775  0.172600\n",
            "\n",
            "[262 rows x 4 columns]\n",
            "Прибыль: 89.2743 LTC/USDT\n",
            "Прибыль / кол-во сделок: 0.3407416030534351\n",
            "ETH/USDT\n",
            "                     ts  ETH/USDT-close_x  ETH/USDT-close_y   profit\n",
            "3   2021-04-01 13:01:00           1925.46            1930.7  1.38908\n",
            "4   2021-04-01 13:02:00           1925.46            1930.2  0.88908\n",
            "5   2021-04-01 13:03:00           1925.46            1931.0  1.68908\n",
            "6   2021-04-01 13:04:00           1925.46            1930.1  0.78908\n",
            "8   2021-04-01 13:06:00           1925.46            1930.1  0.78908\n",
            "..                  ...               ...               ...      ...\n",
            "663 2021-04-02 00:01:00           1970.47            1966.3  0.23740\n",
            "677 2021-04-02 00:15:00           1978.97            1974.3  0.72140\n",
            "701 2021-04-02 00:39:00           1962.11            1968.6  2.56578\n",
            "706 2021-04-02 00:44:00           1972.73            1977.1  0.42454\n",
            "707 2021-04-02 00:45:00           1972.73            1977.5  0.82454\n",
            "\n",
            "[71 rows x 4 columns]\n",
            "Прибыль: 73.1744 ETH/USDT\n",
            "Прибыль / кол-во сделок: 1.030625352112676\n",
            "binance ftx\n",
            "ETH/BTC\n",
            "No profit\n",
            "ETH/EUR\n",
            "                     ts  ETH/EUR-close_x  ETH/EUR-close_y   profit\n",
            "53  2021-04-01 17:31:00          1636.78           1633.3  0.21340\n",
            "119 2021-04-01 18:37:00          1648.67           1652.7  0.73266\n",
            "120 2021-04-01 18:38:00          1648.21           1652.7  1.19358\n",
            "122 2021-04-01 18:40:00          1647.59           1651.6  0.71482\n",
            "123 2021-04-01 18:41:00          1648.20           1651.6  0.10360\n",
            "..                  ...              ...              ...      ...\n",
            "475 2021-04-02 00:33:00          1671.14           1675.3  0.81772\n",
            "476 2021-04-02 00:34:00          1671.63           1675.3  0.32674\n",
            "478 2021-04-02 00:36:00          1671.32           1675.3  0.63736\n",
            "479 2021-04-02 00:37:00          1669.36           1675.2  2.50128\n",
            "480 2021-04-02 00:38:00          1671.46           1675.3  0.49708\n",
            "\n",
            "[94 rows x 4 columns]\n",
            "Прибыль: 136.3175 ETH/EUR\n",
            "Прибыль / кол-во сделок: 1.4501861702127659\n",
            "XRP/USDT\n",
            "                     ts  XRP/USDT-close_x  XRP/USDT-close_y    profit\n",
            "135 2021-04-01 18:53:00           0.55860          0.559725  0.000008\n",
            "140 2021-04-01 18:58:00           0.55843          0.559575  0.000028\n",
            "189 2021-04-01 19:47:00           0.56280          0.563950  0.000024\n",
            "394 2021-04-01 23:12:00           0.55757          0.558725  0.000040\n",
            "395 2021-04-01 23:13:00           0.55748          0.558725  0.000130\n",
            "402 2021-04-01 23:20:00           0.55354          0.552425  0.000010\n",
            "415 2021-04-01 23:33:00           0.56132          0.562650  0.000207\n",
            "Прибыль: 0.0004 XRP/USDT\n",
            "Прибыль / кол-во сделок: 5.714285714285715e-05\n",
            "LTC/USDT\n",
            "                     ts  LTC/USDT-close_x  LTC/USDT-close_y   profit\n",
            "5   2021-04-01 16:43:00            195.79           196.200  0.01842\n",
            "44  2021-04-01 17:22:00            195.77           196.165  0.00346\n",
            "126 2021-04-01 18:44:00            196.80           197.200  0.00640\n",
            "155 2021-04-01 19:13:00            195.43           195.860  0.03914\n",
            "223 2021-04-01 20:21:00            203.39           203.900  0.10322\n",
            "375 2021-04-01 22:53:00            198.95           199.350  0.00210\n",
            "420 2021-04-01 23:38:00            199.65           200.080  0.03070\n",
            "422 2021-04-01 23:40:00            198.68           199.190  0.11264\n",
            "457 2021-04-02 00:15:00            200.88           201.300  0.01824\n",
            "492 2021-04-02 00:50:00            201.17           201.595  0.02266\n",
            "Прибыль: 0.357 LTC/USDT\n",
            "Прибыль / кол-во сделок: 0.035699999999999996\n",
            "ETH/USDT\n",
            "No profit\n",
            "Сегодня настроим бота на рынки: kraken ftx на пару ETH/EUR\n"
          ],
          "name": "stdout"
        }
      ]
    }
  ]
}