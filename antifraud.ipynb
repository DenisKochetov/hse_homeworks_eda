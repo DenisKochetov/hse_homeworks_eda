{
  "cells": [
    {
      "cell_type": "markdown",
      "metadata": {
        "id": "ZZ-X8bm_VSC1"
      },
      "source": [
        "# Мошенничество с кредитными картами\n"
      ]
    },
    {
      "cell_type": "code",
      "execution_count": null,
      "metadata": {
        "id": "Qy_GaI20VSC_"
      },
      "outputs": [],
      "source": [
        "import pandas as pd\n",
        "import numpy as np"
      ]
    },
    {
      "cell_type": "code",
      "execution_count": null,
      "metadata": {
        "colab": {
          "base_uri": "https://localhost:8080/",
          "height": 317
        },
        "id": "SlqR2vO3VSDB",
        "outputId": "432396e2-4248-4dd4-a004-c1bd63e7c977"
      },
      "outputs": [
        {
          "output_type": "execute_result",
          "data": {
            "text/plain": [
              "   Unnamed: 0  Time        V1        V2        V3        V4        V5  \\\n",
              "0           0    64  1.212511 -0.099054 -1.192094  0.286324  2.160516   \n",
              "1           1    64 -0.658305  0.406791  2.037461 -0.291298  0.147910   \n",
              "2           2   124  1.105253  0.541842  0.839421  2.570933 -0.279517   \n",
              "3           3   128  1.239495 -0.182609  0.155058 -0.928892 -0.746227   \n",
              "4           4   132 -1.571359  1.687508  0.734670  1.293350 -0.217532   \n",
              "\n",
              "         V6        V7        V8  ...       V21       V22       V23       V24  \\\n",
              "0  3.616314 -0.404207  0.842331  ... -0.167496 -0.494695 -0.149785  1.011227   \n",
              "1 -0.350857  0.945373 -0.172560  ... -0.156096 -0.238805  0.089877  0.421195   \n",
              "2 -0.423062  0.088019  0.011622  ... -0.137434 -0.460991  0.189397  0.556329   \n",
              "3 -1.235608 -0.061695 -0.125223  ...  0.146077  0.481119 -0.140019  0.538261   \n",
              "4 -0.002677  0.147364  0.515362  ...  0.048549  0.377256 -0.030436  0.117608   \n",
              "\n",
              "        V25       V26       V27       V28  Amount  Class  \n",
              "0  0.883548 -0.329434  0.020370  0.017037   34.70    0.0  \n",
              "1 -0.352487  0.074783 -0.094192 -0.092493   54.99    0.0  \n",
              "2  0.185786 -0.189030  0.000208  0.026167    6.24    0.0  \n",
              "3  0.710720 -0.621382  0.036867  0.010963    8.80    0.0  \n",
              "4 -0.060520 -0.296550 -0.481570 -0.167897   10.00    0.0  \n",
              "\n",
              "[5 rows x 32 columns]"
            ],
            "text/html": [
              "\n",
              "  <div id=\"df-487f70a2-39af-4535-8aa0-108a61664232\">\n",
              "    <div class=\"colab-df-container\">\n",
              "      <div>\n",
              "<style scoped>\n",
              "    .dataframe tbody tr th:only-of-type {\n",
              "        vertical-align: middle;\n",
              "    }\n",
              "\n",
              "    .dataframe tbody tr th {\n",
              "        vertical-align: top;\n",
              "    }\n",
              "\n",
              "    .dataframe thead th {\n",
              "        text-align: right;\n",
              "    }\n",
              "</style>\n",
              "<table border=\"1\" class=\"dataframe\">\n",
              "  <thead>\n",
              "    <tr style=\"text-align: right;\">\n",
              "      <th></th>\n",
              "      <th>Unnamed: 0</th>\n",
              "      <th>Time</th>\n",
              "      <th>V1</th>\n",
              "      <th>V2</th>\n",
              "      <th>V3</th>\n",
              "      <th>V4</th>\n",
              "      <th>V5</th>\n",
              "      <th>V6</th>\n",
              "      <th>V7</th>\n",
              "      <th>V8</th>\n",
              "      <th>...</th>\n",
              "      <th>V21</th>\n",
              "      <th>V22</th>\n",
              "      <th>V23</th>\n",
              "      <th>V24</th>\n",
              "      <th>V25</th>\n",
              "      <th>V26</th>\n",
              "      <th>V27</th>\n",
              "      <th>V28</th>\n",
              "      <th>Amount</th>\n",
              "      <th>Class</th>\n",
              "    </tr>\n",
              "  </thead>\n",
              "  <tbody>\n",
              "    <tr>\n",
              "      <th>0</th>\n",
              "      <td>0</td>\n",
              "      <td>64</td>\n",
              "      <td>1.212511</td>\n",
              "      <td>-0.099054</td>\n",
              "      <td>-1.192094</td>\n",
              "      <td>0.286324</td>\n",
              "      <td>2.160516</td>\n",
              "      <td>3.616314</td>\n",
              "      <td>-0.404207</td>\n",
              "      <td>0.842331</td>\n",
              "      <td>...</td>\n",
              "      <td>-0.167496</td>\n",
              "      <td>-0.494695</td>\n",
              "      <td>-0.149785</td>\n",
              "      <td>1.011227</td>\n",
              "      <td>0.883548</td>\n",
              "      <td>-0.329434</td>\n",
              "      <td>0.020370</td>\n",
              "      <td>0.017037</td>\n",
              "      <td>34.70</td>\n",
              "      <td>0.0</td>\n",
              "    </tr>\n",
              "    <tr>\n",
              "      <th>1</th>\n",
              "      <td>1</td>\n",
              "      <td>64</td>\n",
              "      <td>-0.658305</td>\n",
              "      <td>0.406791</td>\n",
              "      <td>2.037461</td>\n",
              "      <td>-0.291298</td>\n",
              "      <td>0.147910</td>\n",
              "      <td>-0.350857</td>\n",
              "      <td>0.945373</td>\n",
              "      <td>-0.172560</td>\n",
              "      <td>...</td>\n",
              "      <td>-0.156096</td>\n",
              "      <td>-0.238805</td>\n",
              "      <td>0.089877</td>\n",
              "      <td>0.421195</td>\n",
              "      <td>-0.352487</td>\n",
              "      <td>0.074783</td>\n",
              "      <td>-0.094192</td>\n",
              "      <td>-0.092493</td>\n",
              "      <td>54.99</td>\n",
              "      <td>0.0</td>\n",
              "    </tr>\n",
              "    <tr>\n",
              "      <th>2</th>\n",
              "      <td>2</td>\n",
              "      <td>124</td>\n",
              "      <td>1.105253</td>\n",
              "      <td>0.541842</td>\n",
              "      <td>0.839421</td>\n",
              "      <td>2.570933</td>\n",
              "      <td>-0.279517</td>\n",
              "      <td>-0.423062</td>\n",
              "      <td>0.088019</td>\n",
              "      <td>0.011622</td>\n",
              "      <td>...</td>\n",
              "      <td>-0.137434</td>\n",
              "      <td>-0.460991</td>\n",
              "      <td>0.189397</td>\n",
              "      <td>0.556329</td>\n",
              "      <td>0.185786</td>\n",
              "      <td>-0.189030</td>\n",
              "      <td>0.000208</td>\n",
              "      <td>0.026167</td>\n",
              "      <td>6.24</td>\n",
              "      <td>0.0</td>\n",
              "    </tr>\n",
              "    <tr>\n",
              "      <th>3</th>\n",
              "      <td>3</td>\n",
              "      <td>128</td>\n",
              "      <td>1.239495</td>\n",
              "      <td>-0.182609</td>\n",
              "      <td>0.155058</td>\n",
              "      <td>-0.928892</td>\n",
              "      <td>-0.746227</td>\n",
              "      <td>-1.235608</td>\n",
              "      <td>-0.061695</td>\n",
              "      <td>-0.125223</td>\n",
              "      <td>...</td>\n",
              "      <td>0.146077</td>\n",
              "      <td>0.481119</td>\n",
              "      <td>-0.140019</td>\n",
              "      <td>0.538261</td>\n",
              "      <td>0.710720</td>\n",
              "      <td>-0.621382</td>\n",
              "      <td>0.036867</td>\n",
              "      <td>0.010963</td>\n",
              "      <td>8.80</td>\n",
              "      <td>0.0</td>\n",
              "    </tr>\n",
              "    <tr>\n",
              "      <th>4</th>\n",
              "      <td>4</td>\n",
              "      <td>132</td>\n",
              "      <td>-1.571359</td>\n",
              "      <td>1.687508</td>\n",
              "      <td>0.734670</td>\n",
              "      <td>1.293350</td>\n",
              "      <td>-0.217532</td>\n",
              "      <td>-0.002677</td>\n",
              "      <td>0.147364</td>\n",
              "      <td>0.515362</td>\n",
              "      <td>...</td>\n",
              "      <td>0.048549</td>\n",
              "      <td>0.377256</td>\n",
              "      <td>-0.030436</td>\n",
              "      <td>0.117608</td>\n",
              "      <td>-0.060520</td>\n",
              "      <td>-0.296550</td>\n",
              "      <td>-0.481570</td>\n",
              "      <td>-0.167897</td>\n",
              "      <td>10.00</td>\n",
              "      <td>0.0</td>\n",
              "    </tr>\n",
              "  </tbody>\n",
              "</table>\n",
              "<p>5 rows × 32 columns</p>\n",
              "</div>\n",
              "      <button class=\"colab-df-convert\" onclick=\"convertToInteractive('df-487f70a2-39af-4535-8aa0-108a61664232')\"\n",
              "              title=\"Convert this dataframe to an interactive table.\"\n",
              "              style=\"display:none;\">\n",
              "        \n",
              "  <svg xmlns=\"http://www.w3.org/2000/svg\" height=\"24px\"viewBox=\"0 0 24 24\"\n",
              "       width=\"24px\">\n",
              "    <path d=\"M0 0h24v24H0V0z\" fill=\"none\"/>\n",
              "    <path d=\"M18.56 5.44l.94 2.06.94-2.06 2.06-.94-2.06-.94-.94-2.06-.94 2.06-2.06.94zm-11 1L8.5 8.5l.94-2.06 2.06-.94-2.06-.94L8.5 2.5l-.94 2.06-2.06.94zm10 10l.94 2.06.94-2.06 2.06-.94-2.06-.94-.94-2.06-.94 2.06-2.06.94z\"/><path d=\"M17.41 7.96l-1.37-1.37c-.4-.4-.92-.59-1.43-.59-.52 0-1.04.2-1.43.59L10.3 9.45l-7.72 7.72c-.78.78-.78 2.05 0 2.83L4 21.41c.39.39.9.59 1.41.59.51 0 1.02-.2 1.41-.59l7.78-7.78 2.81-2.81c.8-.78.8-2.07 0-2.86zM5.41 20L4 18.59l7.72-7.72 1.47 1.35L5.41 20z\"/>\n",
              "  </svg>\n",
              "      </button>\n",
              "      \n",
              "  <style>\n",
              "    .colab-df-container {\n",
              "      display:flex;\n",
              "      flex-wrap:wrap;\n",
              "      gap: 12px;\n",
              "    }\n",
              "\n",
              "    .colab-df-convert {\n",
              "      background-color: #E8F0FE;\n",
              "      border: none;\n",
              "      border-radius: 50%;\n",
              "      cursor: pointer;\n",
              "      display: none;\n",
              "      fill: #1967D2;\n",
              "      height: 32px;\n",
              "      padding: 0 0 0 0;\n",
              "      width: 32px;\n",
              "    }\n",
              "\n",
              "    .colab-df-convert:hover {\n",
              "      background-color: #E2EBFA;\n",
              "      box-shadow: 0px 1px 2px rgba(60, 64, 67, 0.3), 0px 1px 3px 1px rgba(60, 64, 67, 0.15);\n",
              "      fill: #174EA6;\n",
              "    }\n",
              "\n",
              "    [theme=dark] .colab-df-convert {\n",
              "      background-color: #3B4455;\n",
              "      fill: #D2E3FC;\n",
              "    }\n",
              "\n",
              "    [theme=dark] .colab-df-convert:hover {\n",
              "      background-color: #434B5C;\n",
              "      box-shadow: 0px 1px 3px 1px rgba(0, 0, 0, 0.15);\n",
              "      filter: drop-shadow(0px 1px 2px rgba(0, 0, 0, 0.3));\n",
              "      fill: #FFFFFF;\n",
              "    }\n",
              "  </style>\n",
              "\n",
              "      <script>\n",
              "        const buttonEl =\n",
              "          document.querySelector('#df-487f70a2-39af-4535-8aa0-108a61664232 button.colab-df-convert');\n",
              "        buttonEl.style.display =\n",
              "          google.colab.kernel.accessAllowed ? 'block' : 'none';\n",
              "\n",
              "        async function convertToInteractive(key) {\n",
              "          const element = document.querySelector('#df-487f70a2-39af-4535-8aa0-108a61664232');\n",
              "          const dataTable =\n",
              "            await google.colab.kernel.invokeFunction('convertToInteractive',\n",
              "                                                     [key], {});\n",
              "          if (!dataTable) return;\n",
              "\n",
              "          const docLinkHtml = 'Like what you see? Visit the ' +\n",
              "            '<a target=\"_blank\" href=https://colab.research.google.com/notebooks/data_table.ipynb>data table notebook</a>'\n",
              "            + ' to learn more about interactive tables.';\n",
              "          element.innerHTML = '';\n",
              "          dataTable['output_type'] = 'display_data';\n",
              "          await google.colab.output.renderOutput(dataTable, element);\n",
              "          const docLink = document.createElement('div');\n",
              "          docLink.innerHTML = docLinkHtml;\n",
              "          element.appendChild(docLink);\n",
              "        }\n",
              "      </script>\n",
              "    </div>\n",
              "  </div>\n",
              "  "
            ]
          },
          "metadata": {},
          "execution_count": 6
        }
      ],
      "source": [
        "dataset = pd.read_csv(\"fraudTrain1.csv\", sep=',', decimal='.')\n",
        "dataset.head()"
      ]
    },
    {
      "cell_type": "code",
      "execution_count": null,
      "metadata": {
        "colab": {
          "base_uri": "https://localhost:8080/"
        },
        "id": "EvwijgieVSDD",
        "outputId": "bf90f038-1762-415e-fae6-849d446a10cb"
      },
      "outputs": [
        {
          "output_type": "execute_result",
          "data": {
            "text/plain": [
              "Index(['Unnamed: 0', 'Time', 'V1', 'V2', 'V3', 'V4', 'V5', 'V6', 'V7', 'V8',\n",
              "       'V9', 'V10', 'V11', 'V12', 'V13', 'V14', 'V15', 'V16', 'V17', 'V18',\n",
              "       'V19', 'V20', 'V21', 'V22', 'V23', 'V24', 'V25', 'V26', 'V27', 'V28',\n",
              "       'Amount', 'Class'],\n",
              "      dtype='object')"
            ]
          },
          "metadata": {},
          "execution_count": 7
        }
      ],
      "source": [
        "dataset.columns"
      ]
    },
    {
      "cell_type": "markdown",
      "metadata": {
        "id": "L8kUwTC2VSDE"
      },
      "source": [
        "С помощью LabelEncoder преобразуем категориальные данные в числовой формат"
      ]
    },
    {
      "cell_type": "code",
      "execution_count": null,
      "metadata": {
        "colab": {
          "base_uri": "https://localhost:8080/"
        },
        "id": "B0IhCpOCVSDG",
        "outputId": "93696800-be88-405f-f77b-1043ac72be99"
      },
      "outputs": [
        {
          "output_type": "stream",
          "name": "stdout",
          "text": [
            "Index([], dtype='object')\n",
            "<class 'pandas.core.frame.DataFrame'>\n",
            "RangeIndex: 5723 entries, 0 to 5722\n",
            "Data columns (total 32 columns):\n",
            " #   Column      Non-Null Count  Dtype  \n",
            "---  ------      --------------  -----  \n",
            " 0   Unnamed: 0  5723 non-null   int64  \n",
            " 1   Time        5723 non-null   int64  \n",
            " 2   V1          5723 non-null   float64\n",
            " 3   V2          5723 non-null   float64\n",
            " 4   V3          5723 non-null   float64\n",
            " 5   V4          5723 non-null   float64\n",
            " 6   V5          5723 non-null   float64\n",
            " 7   V6          5722 non-null   float64\n",
            " 8   V7          5722 non-null   float64\n",
            " 9   V8          5722 non-null   float64\n",
            " 10  V9          5722 non-null   float64\n",
            " 11  V10         5722 non-null   float64\n",
            " 12  V11         5722 non-null   float64\n",
            " 13  V12         5722 non-null   float64\n",
            " 14  V13         5722 non-null   float64\n",
            " 15  V14         5722 non-null   float64\n",
            " 16  V15         5722 non-null   float64\n",
            " 17  V16         5722 non-null   float64\n",
            " 18  V17         5722 non-null   float64\n",
            " 19  V18         5722 non-null   float64\n",
            " 20  V19         5722 non-null   float64\n",
            " 21  V20         5722 non-null   float64\n",
            " 22  V21         5722 non-null   float64\n",
            " 23  V22         5722 non-null   float64\n",
            " 24  V23         5722 non-null   float64\n",
            " 25  V24         5722 non-null   float64\n",
            " 26  V25         5722 non-null   float64\n",
            " 27  V26         5722 non-null   float64\n",
            " 28  V27         5722 non-null   float64\n",
            " 29  V28         5722 non-null   float64\n",
            " 30  Amount      5722 non-null   float64\n",
            " 31  Class       5722 non-null   float64\n",
            "dtypes: float64(30), int64(2)\n",
            "memory usage: 1.4 MB\n",
            "None\n"
          ]
        }
      ],
      "source": [
        "#Label Encoding for object to numeric conversion\n",
        "from sklearn.preprocessing import LabelEncoder\n",
        "le = LabelEncoder()\n",
        "objList = dataset.select_dtypes(include = \"object\").columns\n",
        "print (objList)\n",
        "for feat in objList:\n",
        "    dataset[feat] = le.fit_transform(dataset[feat].astype(str))\n",
        "\n",
        "print (dataset.info())"
      ]
    },
    {
      "cell_type": "code",
      "execution_count": null,
      "metadata": {
        "colab": {
          "base_uri": "https://localhost:8080/",
          "height": 504
        },
        "id": "4ammbKR4VSDI",
        "outputId": "6b671666-1109-444f-a46e-7e6a0dde4231"
      },
      "outputs": [
        {
          "output_type": "execute_result",
          "data": {
            "text/plain": [
              "      Unnamed: 0    Time        V1        V2        V3        V4        V5  \\\n",
              "0              0      64  1.212511 -0.099054 -1.192094  0.286324  2.160516   \n",
              "1              1      64 -0.658305  0.406791  2.037461 -0.291298  0.147910   \n",
              "2              2     124  1.105253  0.541842  0.839421  2.570933 -0.279517   \n",
              "3              3     128  1.239495 -0.182609  0.155058 -0.928892 -0.746227   \n",
              "4              4     132 -1.571359  1.687508  0.734670  1.293350 -0.217532   \n",
              "...          ...     ...       ...       ...       ...       ...       ...   \n",
              "5718        5718  134681  1.722190 -1.544992 -0.579818 -0.135338 -1.183616   \n",
              "5719        5719  134736  2.254294 -1.408848 -1.062149 -1.628790 -1.160146   \n",
              "5720        5720  134748  0.039663 -0.680268  1.613206 -2.010429 -1.462215   \n",
              "5721        5721  134774 -1.381210  1.052265  1.817411  2.038599  0.443756   \n",
              "5722        5722  134780  0.245104  0.248613  1.252070 -0.461076 -0.115344   \n",
              "\n",
              "            V6        V7        V8  ...       V21       V22       V23  \\\n",
              "0     3.616314 -0.404207  0.842331  ... -0.167496 -0.494695 -0.149785   \n",
              "1    -0.350857  0.945373 -0.172560  ... -0.156096 -0.238805  0.089877   \n",
              "2    -0.423062  0.088019  0.011622  ... -0.137434 -0.460991  0.189397   \n",
              "3    -1.235608 -0.061695 -0.125223  ...  0.146077  0.481119 -0.140019   \n",
              "4    -0.002677  0.147364  0.515362  ...  0.048549  0.377256 -0.030436   \n",
              "...        ...       ...       ...  ...       ...       ...       ...   \n",
              "5718  0.256367 -0.998013  0.164815  ...  0.042279  0.301766  0.081418   \n",
              "5719 -0.609920 -1.052749 -0.161185  ... -0.074638  0.258042  0.123125   \n",
              "5720  0.558458 -1.036120  0.214050  ...  0.005665  0.520100  0.013127   \n",
              "5721  1.293033  1.633641  0.169179  ...  0.118618  0.409055 -0.434314   \n",
              "5722       NaN       NaN       NaN  ...       NaN       NaN       NaN   \n",
              "\n",
              "           V24       V25       V26       V27       V28  Amount  Class  \n",
              "0     1.011227  0.883548 -0.329434  0.020370  0.017037   34.70    0.0  \n",
              "1     0.421195 -0.352487  0.074783 -0.094192 -0.092493   54.99    0.0  \n",
              "2     0.556329  0.185786 -0.189030  0.000208  0.026167    6.24    0.0  \n",
              "3     0.538261  0.710720 -0.621382  0.036867  0.010963    8.80    0.0  \n",
              "4     0.117608 -0.060520 -0.296550 -0.481570 -0.167897   10.00    0.0  \n",
              "...        ...       ...       ...       ...       ...     ...    ...  \n",
              "5718  0.705968 -0.407112  0.396424 -0.027482 -0.016114  182.44    0.0  \n",
              "5719 -0.342859 -0.096894 -0.098236 -0.000539 -0.064197   29.89    0.0  \n",
              "5720 -0.483171 -1.049133 -0.149560  0.160146  0.185278   39.00    0.0  \n",
              "5721 -0.417954  1.099224  0.075946 -0.072958 -0.013562  180.13    0.0  \n",
              "5722       NaN       NaN       NaN       NaN       NaN     NaN    NaN  \n",
              "\n",
              "[5723 rows x 32 columns]"
            ],
            "text/html": [
              "\n",
              "  <div id=\"df-2476ab99-2247-4647-9d4e-1f8e97a45e6e\">\n",
              "    <div class=\"colab-df-container\">\n",
              "      <div>\n",
              "<style scoped>\n",
              "    .dataframe tbody tr th:only-of-type {\n",
              "        vertical-align: middle;\n",
              "    }\n",
              "\n",
              "    .dataframe tbody tr th {\n",
              "        vertical-align: top;\n",
              "    }\n",
              "\n",
              "    .dataframe thead th {\n",
              "        text-align: right;\n",
              "    }\n",
              "</style>\n",
              "<table border=\"1\" class=\"dataframe\">\n",
              "  <thead>\n",
              "    <tr style=\"text-align: right;\">\n",
              "      <th></th>\n",
              "      <th>Unnamed: 0</th>\n",
              "      <th>Time</th>\n",
              "      <th>V1</th>\n",
              "      <th>V2</th>\n",
              "      <th>V3</th>\n",
              "      <th>V4</th>\n",
              "      <th>V5</th>\n",
              "      <th>V6</th>\n",
              "      <th>V7</th>\n",
              "      <th>V8</th>\n",
              "      <th>...</th>\n",
              "      <th>V21</th>\n",
              "      <th>V22</th>\n",
              "      <th>V23</th>\n",
              "      <th>V24</th>\n",
              "      <th>V25</th>\n",
              "      <th>V26</th>\n",
              "      <th>V27</th>\n",
              "      <th>V28</th>\n",
              "      <th>Amount</th>\n",
              "      <th>Class</th>\n",
              "    </tr>\n",
              "  </thead>\n",
              "  <tbody>\n",
              "    <tr>\n",
              "      <th>0</th>\n",
              "      <td>0</td>\n",
              "      <td>64</td>\n",
              "      <td>1.212511</td>\n",
              "      <td>-0.099054</td>\n",
              "      <td>-1.192094</td>\n",
              "      <td>0.286324</td>\n",
              "      <td>2.160516</td>\n",
              "      <td>3.616314</td>\n",
              "      <td>-0.404207</td>\n",
              "      <td>0.842331</td>\n",
              "      <td>...</td>\n",
              "      <td>-0.167496</td>\n",
              "      <td>-0.494695</td>\n",
              "      <td>-0.149785</td>\n",
              "      <td>1.011227</td>\n",
              "      <td>0.883548</td>\n",
              "      <td>-0.329434</td>\n",
              "      <td>0.020370</td>\n",
              "      <td>0.017037</td>\n",
              "      <td>34.70</td>\n",
              "      <td>0.0</td>\n",
              "    </tr>\n",
              "    <tr>\n",
              "      <th>1</th>\n",
              "      <td>1</td>\n",
              "      <td>64</td>\n",
              "      <td>-0.658305</td>\n",
              "      <td>0.406791</td>\n",
              "      <td>2.037461</td>\n",
              "      <td>-0.291298</td>\n",
              "      <td>0.147910</td>\n",
              "      <td>-0.350857</td>\n",
              "      <td>0.945373</td>\n",
              "      <td>-0.172560</td>\n",
              "      <td>...</td>\n",
              "      <td>-0.156096</td>\n",
              "      <td>-0.238805</td>\n",
              "      <td>0.089877</td>\n",
              "      <td>0.421195</td>\n",
              "      <td>-0.352487</td>\n",
              "      <td>0.074783</td>\n",
              "      <td>-0.094192</td>\n",
              "      <td>-0.092493</td>\n",
              "      <td>54.99</td>\n",
              "      <td>0.0</td>\n",
              "    </tr>\n",
              "    <tr>\n",
              "      <th>2</th>\n",
              "      <td>2</td>\n",
              "      <td>124</td>\n",
              "      <td>1.105253</td>\n",
              "      <td>0.541842</td>\n",
              "      <td>0.839421</td>\n",
              "      <td>2.570933</td>\n",
              "      <td>-0.279517</td>\n",
              "      <td>-0.423062</td>\n",
              "      <td>0.088019</td>\n",
              "      <td>0.011622</td>\n",
              "      <td>...</td>\n",
              "      <td>-0.137434</td>\n",
              "      <td>-0.460991</td>\n",
              "      <td>0.189397</td>\n",
              "      <td>0.556329</td>\n",
              "      <td>0.185786</td>\n",
              "      <td>-0.189030</td>\n",
              "      <td>0.000208</td>\n",
              "      <td>0.026167</td>\n",
              "      <td>6.24</td>\n",
              "      <td>0.0</td>\n",
              "    </tr>\n",
              "    <tr>\n",
              "      <th>3</th>\n",
              "      <td>3</td>\n",
              "      <td>128</td>\n",
              "      <td>1.239495</td>\n",
              "      <td>-0.182609</td>\n",
              "      <td>0.155058</td>\n",
              "      <td>-0.928892</td>\n",
              "      <td>-0.746227</td>\n",
              "      <td>-1.235608</td>\n",
              "      <td>-0.061695</td>\n",
              "      <td>-0.125223</td>\n",
              "      <td>...</td>\n",
              "      <td>0.146077</td>\n",
              "      <td>0.481119</td>\n",
              "      <td>-0.140019</td>\n",
              "      <td>0.538261</td>\n",
              "      <td>0.710720</td>\n",
              "      <td>-0.621382</td>\n",
              "      <td>0.036867</td>\n",
              "      <td>0.010963</td>\n",
              "      <td>8.80</td>\n",
              "      <td>0.0</td>\n",
              "    </tr>\n",
              "    <tr>\n",
              "      <th>4</th>\n",
              "      <td>4</td>\n",
              "      <td>132</td>\n",
              "      <td>-1.571359</td>\n",
              "      <td>1.687508</td>\n",
              "      <td>0.734670</td>\n",
              "      <td>1.293350</td>\n",
              "      <td>-0.217532</td>\n",
              "      <td>-0.002677</td>\n",
              "      <td>0.147364</td>\n",
              "      <td>0.515362</td>\n",
              "      <td>...</td>\n",
              "      <td>0.048549</td>\n",
              "      <td>0.377256</td>\n",
              "      <td>-0.030436</td>\n",
              "      <td>0.117608</td>\n",
              "      <td>-0.060520</td>\n",
              "      <td>-0.296550</td>\n",
              "      <td>-0.481570</td>\n",
              "      <td>-0.167897</td>\n",
              "      <td>10.00</td>\n",
              "      <td>0.0</td>\n",
              "    </tr>\n",
              "    <tr>\n",
              "      <th>...</th>\n",
              "      <td>...</td>\n",
              "      <td>...</td>\n",
              "      <td>...</td>\n",
              "      <td>...</td>\n",
              "      <td>...</td>\n",
              "      <td>...</td>\n",
              "      <td>...</td>\n",
              "      <td>...</td>\n",
              "      <td>...</td>\n",
              "      <td>...</td>\n",
              "      <td>...</td>\n",
              "      <td>...</td>\n",
              "      <td>...</td>\n",
              "      <td>...</td>\n",
              "      <td>...</td>\n",
              "      <td>...</td>\n",
              "      <td>...</td>\n",
              "      <td>...</td>\n",
              "      <td>...</td>\n",
              "      <td>...</td>\n",
              "      <td>...</td>\n",
              "    </tr>\n",
              "    <tr>\n",
              "      <th>5718</th>\n",
              "      <td>5718</td>\n",
              "      <td>134681</td>\n",
              "      <td>1.722190</td>\n",
              "      <td>-1.544992</td>\n",
              "      <td>-0.579818</td>\n",
              "      <td>-0.135338</td>\n",
              "      <td>-1.183616</td>\n",
              "      <td>0.256367</td>\n",
              "      <td>-0.998013</td>\n",
              "      <td>0.164815</td>\n",
              "      <td>...</td>\n",
              "      <td>0.042279</td>\n",
              "      <td>0.301766</td>\n",
              "      <td>0.081418</td>\n",
              "      <td>0.705968</td>\n",
              "      <td>-0.407112</td>\n",
              "      <td>0.396424</td>\n",
              "      <td>-0.027482</td>\n",
              "      <td>-0.016114</td>\n",
              "      <td>182.44</td>\n",
              "      <td>0.0</td>\n",
              "    </tr>\n",
              "    <tr>\n",
              "      <th>5719</th>\n",
              "      <td>5719</td>\n",
              "      <td>134736</td>\n",
              "      <td>2.254294</td>\n",
              "      <td>-1.408848</td>\n",
              "      <td>-1.062149</td>\n",
              "      <td>-1.628790</td>\n",
              "      <td>-1.160146</td>\n",
              "      <td>-0.609920</td>\n",
              "      <td>-1.052749</td>\n",
              "      <td>-0.161185</td>\n",
              "      <td>...</td>\n",
              "      <td>-0.074638</td>\n",
              "      <td>0.258042</td>\n",
              "      <td>0.123125</td>\n",
              "      <td>-0.342859</td>\n",
              "      <td>-0.096894</td>\n",
              "      <td>-0.098236</td>\n",
              "      <td>-0.000539</td>\n",
              "      <td>-0.064197</td>\n",
              "      <td>29.89</td>\n",
              "      <td>0.0</td>\n",
              "    </tr>\n",
              "    <tr>\n",
              "      <th>5720</th>\n",
              "      <td>5720</td>\n",
              "      <td>134748</td>\n",
              "      <td>0.039663</td>\n",
              "      <td>-0.680268</td>\n",
              "      <td>1.613206</td>\n",
              "      <td>-2.010429</td>\n",
              "      <td>-1.462215</td>\n",
              "      <td>0.558458</td>\n",
              "      <td>-1.036120</td>\n",
              "      <td>0.214050</td>\n",
              "      <td>...</td>\n",
              "      <td>0.005665</td>\n",
              "      <td>0.520100</td>\n",
              "      <td>0.013127</td>\n",
              "      <td>-0.483171</td>\n",
              "      <td>-1.049133</td>\n",
              "      <td>-0.149560</td>\n",
              "      <td>0.160146</td>\n",
              "      <td>0.185278</td>\n",
              "      <td>39.00</td>\n",
              "      <td>0.0</td>\n",
              "    </tr>\n",
              "    <tr>\n",
              "      <th>5721</th>\n",
              "      <td>5721</td>\n",
              "      <td>134774</td>\n",
              "      <td>-1.381210</td>\n",
              "      <td>1.052265</td>\n",
              "      <td>1.817411</td>\n",
              "      <td>2.038599</td>\n",
              "      <td>0.443756</td>\n",
              "      <td>1.293033</td>\n",
              "      <td>1.633641</td>\n",
              "      <td>0.169179</td>\n",
              "      <td>...</td>\n",
              "      <td>0.118618</td>\n",
              "      <td>0.409055</td>\n",
              "      <td>-0.434314</td>\n",
              "      <td>-0.417954</td>\n",
              "      <td>1.099224</td>\n",
              "      <td>0.075946</td>\n",
              "      <td>-0.072958</td>\n",
              "      <td>-0.013562</td>\n",
              "      <td>180.13</td>\n",
              "      <td>0.0</td>\n",
              "    </tr>\n",
              "    <tr>\n",
              "      <th>5722</th>\n",
              "      <td>5722</td>\n",
              "      <td>134780</td>\n",
              "      <td>0.245104</td>\n",
              "      <td>0.248613</td>\n",
              "      <td>1.252070</td>\n",
              "      <td>-0.461076</td>\n",
              "      <td>-0.115344</td>\n",
              "      <td>NaN</td>\n",
              "      <td>NaN</td>\n",
              "      <td>NaN</td>\n",
              "      <td>...</td>\n",
              "      <td>NaN</td>\n",
              "      <td>NaN</td>\n",
              "      <td>NaN</td>\n",
              "      <td>NaN</td>\n",
              "      <td>NaN</td>\n",
              "      <td>NaN</td>\n",
              "      <td>NaN</td>\n",
              "      <td>NaN</td>\n",
              "      <td>NaN</td>\n",
              "      <td>NaN</td>\n",
              "    </tr>\n",
              "  </tbody>\n",
              "</table>\n",
              "<p>5723 rows × 32 columns</p>\n",
              "</div>\n",
              "      <button class=\"colab-df-convert\" onclick=\"convertToInteractive('df-2476ab99-2247-4647-9d4e-1f8e97a45e6e')\"\n",
              "              title=\"Convert this dataframe to an interactive table.\"\n",
              "              style=\"display:none;\">\n",
              "        \n",
              "  <svg xmlns=\"http://www.w3.org/2000/svg\" height=\"24px\"viewBox=\"0 0 24 24\"\n",
              "       width=\"24px\">\n",
              "    <path d=\"M0 0h24v24H0V0z\" fill=\"none\"/>\n",
              "    <path d=\"M18.56 5.44l.94 2.06.94-2.06 2.06-.94-2.06-.94-.94-2.06-.94 2.06-2.06.94zm-11 1L8.5 8.5l.94-2.06 2.06-.94-2.06-.94L8.5 2.5l-.94 2.06-2.06.94zm10 10l.94 2.06.94-2.06 2.06-.94-2.06-.94-.94-2.06-.94 2.06-2.06.94z\"/><path d=\"M17.41 7.96l-1.37-1.37c-.4-.4-.92-.59-1.43-.59-.52 0-1.04.2-1.43.59L10.3 9.45l-7.72 7.72c-.78.78-.78 2.05 0 2.83L4 21.41c.39.39.9.59 1.41.59.51 0 1.02-.2 1.41-.59l7.78-7.78 2.81-2.81c.8-.78.8-2.07 0-2.86zM5.41 20L4 18.59l7.72-7.72 1.47 1.35L5.41 20z\"/>\n",
              "  </svg>\n",
              "      </button>\n",
              "      \n",
              "  <style>\n",
              "    .colab-df-container {\n",
              "      display:flex;\n",
              "      flex-wrap:wrap;\n",
              "      gap: 12px;\n",
              "    }\n",
              "\n",
              "    .colab-df-convert {\n",
              "      background-color: #E8F0FE;\n",
              "      border: none;\n",
              "      border-radius: 50%;\n",
              "      cursor: pointer;\n",
              "      display: none;\n",
              "      fill: #1967D2;\n",
              "      height: 32px;\n",
              "      padding: 0 0 0 0;\n",
              "      width: 32px;\n",
              "    }\n",
              "\n",
              "    .colab-df-convert:hover {\n",
              "      background-color: #E2EBFA;\n",
              "      box-shadow: 0px 1px 2px rgba(60, 64, 67, 0.3), 0px 1px 3px 1px rgba(60, 64, 67, 0.15);\n",
              "      fill: #174EA6;\n",
              "    }\n",
              "\n",
              "    [theme=dark] .colab-df-convert {\n",
              "      background-color: #3B4455;\n",
              "      fill: #D2E3FC;\n",
              "    }\n",
              "\n",
              "    [theme=dark] .colab-df-convert:hover {\n",
              "      background-color: #434B5C;\n",
              "      box-shadow: 0px 1px 3px 1px rgba(0, 0, 0, 0.15);\n",
              "      filter: drop-shadow(0px 1px 2px rgba(0, 0, 0, 0.3));\n",
              "      fill: #FFFFFF;\n",
              "    }\n",
              "  </style>\n",
              "\n",
              "      <script>\n",
              "        const buttonEl =\n",
              "          document.querySelector('#df-2476ab99-2247-4647-9d4e-1f8e97a45e6e button.colab-df-convert');\n",
              "        buttonEl.style.display =\n",
              "          google.colab.kernel.accessAllowed ? 'block' : 'none';\n",
              "\n",
              "        async function convertToInteractive(key) {\n",
              "          const element = document.querySelector('#df-2476ab99-2247-4647-9d4e-1f8e97a45e6e');\n",
              "          const dataTable =\n",
              "            await google.colab.kernel.invokeFunction('convertToInteractive',\n",
              "                                                     [key], {});\n",
              "          if (!dataTable) return;\n",
              "\n",
              "          const docLinkHtml = 'Like what you see? Visit the ' +\n",
              "            '<a target=\"_blank\" href=https://colab.research.google.com/notebooks/data_table.ipynb>data table notebook</a>'\n",
              "            + ' to learn more about interactive tables.';\n",
              "          element.innerHTML = '';\n",
              "          dataTable['output_type'] = 'display_data';\n",
              "          await google.colab.output.renderOutput(dataTable, element);\n",
              "          const docLink = document.createElement('div');\n",
              "          docLink.innerHTML = docLinkHtml;\n",
              "          element.appendChild(docLink);\n",
              "        }\n",
              "      </script>\n",
              "    </div>\n",
              "  </div>\n",
              "  "
            ]
          },
          "metadata": {},
          "execution_count": 9
        }
      ],
      "source": [
        "dataset"
      ]
    },
    {
      "cell_type": "code",
      "execution_count": null,
      "metadata": {
        "colab": {
          "base_uri": "https://localhost:8080/"
        },
        "id": "mJfmKt98VSDJ",
        "outputId": "e1b7a1a4-460e-4071-85d2-50a77b81dd68"
      },
      "outputs": [
        {
          "output_type": "execute_result",
          "data": {
            "text/plain": [
              "0.0    5708\n",
              "1.0      14\n",
              "Name: Class, dtype: int64"
            ]
          },
          "metadata": {},
          "execution_count": 24
        }
      ],
      "source": [
        "occ = dataset.Class.value_counts()\n",
        "occ"
      ]
    },
    {
      "cell_type": "markdown",
      "metadata": {
        "id": "qBxeAkXJVSDK"
      },
      "source": [
        "При изучении данных, можно заметить, что они несбалансированы"
      ]
    },
    {
      "cell_type": "code",
      "execution_count": null,
      "metadata": {
        "colab": {
          "base_uri": "https://localhost:8080/"
        },
        "id": "7vjBfoofVSDL",
        "outputId": "12b306ff-5ca0-4ea0-c6f9-2510ed7e33fa"
      },
      "outputs": [
        {
          "output_type": "stream",
          "name": "stdout",
          "text": [
            "Процент мошеннических транзакций: 0.0024462694391053645\n",
            "Процент немошеннических транзакций: 0.9973789970295299\n"
          ]
        }
      ],
      "source": [
        "ratio_cases = occ/len(dataset.index)\n",
        "print(f'Процент мошеннических транзакций: {ratio_cases[1]}\\nПроцент немошеннических транзакций: {ratio_cases[0]}')"
      ]
    },
    {
      "cell_type": "code",
      "execution_count": null,
      "metadata": {
        "id": "EqiaHa0XVSDL"
      },
      "outputs": [],
      "source": [
        "# Функция разбиения данных\n",
        "def prep_data(df: pd.DataFrame):\n",
        "   \n",
        "    X = df.iloc[:, 2:22].values\n",
        "    y = df.Class.values\n",
        "    return X, y"
      ]
    },
    {
      "cell_type": "code",
      "execution_count": null,
      "metadata": {
        "id": "I449HrmKVSDM"
      },
      "outputs": [],
      "source": [
        "# Функция для построения графика\n",
        "def plot_data(X: np.ndarray, y: np.ndarray):\n",
        "    plt.scatter(X[y == 0, 0], X[y == 0, 1], label=\"Класс #0\", alpha=0.5, linewidth=0.15)\n",
        "    plt.scatter(X[y == 1, 0], X[y == 1, 1], label=\"Класс #1\", alpha=0.5, linewidth=0.15, c='r')\n",
        "    plt.legend()\n",
        "    return plt.show()"
      ]
    },
    {
      "cell_type": "code",
      "execution_count": null,
      "metadata": {
        "id": "jFBC1QbuVSDN"
      },
      "outputs": [],
      "source": [
        "# X- категории, y - класс предсказания\n",
        "X, y = prep_data(dataset)"
      ]
    },
    {
      "cell_type": "code",
      "execution_count": null,
      "metadata": {
        "id": "3GzgVUrbVSDN"
      },
      "outputs": [],
      "source": [
        "import matplotlib.pyplot as plt"
      ]
    },
    {
      "cell_type": "code",
      "execution_count": null,
      "metadata": {
        "colab": {
          "base_uri": "https://localhost:8080/",
          "height": 265
        },
        "id": "YCq_3xFYVSDO",
        "outputId": "f33ce969-7dd3-437b-835f-5eb8a11d9f81"
      },
      "outputs": [
        {
          "output_type": "display_data",
          "data": {
            "text/plain": [
              "<Figure size 432x288 with 1 Axes>"
            ],
            "image/png": "[encoded data removed]"
          },
          "metadata": {
            "needs_background": "light"
          }
        }
      ],
      "source": [
        "# График распределения по классам\n",
        "plot_data(X, y)"
      ]
    },
    {
      "cell_type": "raw",
      "metadata": {
        "id": "ud_2oduxVSDO"
      },
      "source": [
        "Решить проблему дизбаланса классов можно следующим образом: \n",
        "1. Сократить данные, относящиеся к большему классу (при этом потенциально важные данные)\n",
        "2. Увеличить число данных для меньшего класса при помощи копирования или аугментирования (учим на дублированных данных)"
      ]
    },
    {
      "cell_type": "raw",
      "metadata": {
        "id": "ZoRfXOcBVSDP"
      },
      "source": [
        "SMOTE - synthetic minority oversampling technique\n",
        "Использует характеристики ближайших соседей класса для создания синтетических даныых, не создавая при этом дубликатов\n",
        "Работает, только если данные из класа очень похожи друг на друга. Соседи не обязательно будут подходить классу, таким образом мы сами вносим в данные шум"
      ]
    },
    {
      "cell_type": "code",
      "execution_count": null,
      "metadata": {
        "colab": {
          "base_uri": "https://localhost:8080/"
        },
        "id": "DHYuQU9kVSDQ",
        "outputId": "490a472b-aa54-4c9a-b095-cd040867b816"
      },
      "outputs": [
        {
          "output_type": "stream",
          "name": "stdout",
          "text": [
            "Requirement already satisfied: imblearn in /usr/local/lib/python3.7/dist-packages (0.0)\n",
            "Requirement already satisfied: imbalanced-learn in /usr/local/lib/python3.7/dist-packages (from imblearn) (0.8.1)\n",
            "Requirement already satisfied: scikit-learn>=0.24 in /usr/local/lib/python3.7/dist-packages (from imbalanced-learn->imblearn) (1.0.2)\n",
            "Requirement already satisfied: numpy>=1.13.3 in /usr/local/lib/python3.7/dist-packages (from imbalanced-learn->imblearn) (1.21.5)\n",
            "Requirement already satisfied: joblib>=0.11 in /usr/local/lib/python3.7/dist-packages (from imbalanced-learn->imblearn) (1.1.0)\n",
            "Requirement already satisfied: scipy>=0.19.1 in /usr/local/lib/python3.7/dist-packages (from imbalanced-learn->imblearn) (1.4.1)\n",
            "Requirement already satisfied: threadpoolctl>=2.0.0 in /usr/local/lib/python3.7/dist-packages (from scikit-learn>=0.24->imbalanced-learn->imblearn) (3.1.0)\n"
          ]
        }
      ],
      "source": [
        "!pip install imblearn"
      ]
    },
    {
      "cell_type": "code",
      "execution_count": null,
      "metadata": {
        "id": "vj7-fF9rVSDQ"
      },
      "outputs": [],
      "source": [
        "from imblearn.over_sampling import RandomOverSampler\n",
        "oversample = RandomOverSampler(sampling_strategy='minority')"
      ]
    },
    {
      "cell_type": "code",
      "execution_count": null,
      "metadata": {
        "colab": {
          "base_uri": "https://localhost:8080/",
          "height": 323
        },
        "id": "7w5mQy1CVSDR",
        "outputId": "0bdb9f9f-edcc-447b-c35f-f22fd6c4aca1"
      },
      "outputs": [
        {
          "output_type": "error",
          "ename": "ValueError",
          "evalue": "ignored",
          "traceback": [
            "\u001b[0;31m---------------------------------------------------------------------------\u001b[0m",
            "\u001b[0;31mValueError\u001b[0m                                Traceback (most recent call last)",
            "\u001b[0;32m<ipython-input-22-f2bf4537329d>\u001b[0m in \u001b[0;36m<module>\u001b[0;34m()\u001b[0m\n\u001b[0;32m----> 1\u001b[0;31m \u001b[0mX_over\u001b[0m\u001b[0;34m,\u001b[0m \u001b[0my_over\u001b[0m \u001b[0;34m=\u001b[0m \u001b[0moversample\u001b[0m\u001b[0;34m.\u001b[0m\u001b[0mfit_resample\u001b[0m\u001b[0;34m(\u001b[0m\u001b[0mX\u001b[0m\u001b[0;34m,\u001b[0m \u001b[0my\u001b[0m\u001b[0;34m)\u001b[0m\u001b[0;34m\u001b[0m\u001b[0;34m\u001b[0m\u001b[0m\n\u001b[0m",
            "\u001b[0;32m/usr/local/lib/python3.7/dist-packages/imblearn/base.py\u001b[0m in \u001b[0;36mfit_resample\u001b[0;34m(self, X, y)\u001b[0m\n\u001b[1;32m     73\u001b[0m             \u001b[0mThe\u001b[0m \u001b[0mcorresponding\u001b[0m \u001b[0mlabel\u001b[0m \u001b[0mof\u001b[0m\u001b[0;31m \u001b[0m\u001b[0;31m`\u001b[0m\u001b[0mX_resampled\u001b[0m\u001b[0;31m`\u001b[0m\u001b[0;34m.\u001b[0m\u001b[0;34m\u001b[0m\u001b[0;34m\u001b[0m\u001b[0m\n\u001b[1;32m     74\u001b[0m         \"\"\"\n\u001b[0;32m---> 75\u001b[0;31m         \u001b[0mcheck_classification_targets\u001b[0m\u001b[0;34m(\u001b[0m\u001b[0my\u001b[0m\u001b[0;34m)\u001b[0m\u001b[0;34m\u001b[0m\u001b[0;34m\u001b[0m\u001b[0m\n\u001b[0m\u001b[1;32m     76\u001b[0m         \u001b[0marrays_transformer\u001b[0m \u001b[0;34m=\u001b[0m \u001b[0mArraysTransformer\u001b[0m\u001b[0;34m(\u001b[0m\u001b[0mX\u001b[0m\u001b[0;34m,\u001b[0m \u001b[0my\u001b[0m\u001b[0;34m)\u001b[0m\u001b[0;34m\u001b[0m\u001b[0;34m\u001b[0m\u001b[0m\n\u001b[1;32m     77\u001b[0m         \u001b[0mX\u001b[0m\u001b[0;34m,\u001b[0m \u001b[0my\u001b[0m\u001b[0;34m,\u001b[0m \u001b[0mbinarize_y\u001b[0m \u001b[0;34m=\u001b[0m \u001b[0mself\u001b[0m\u001b[0;34m.\u001b[0m\u001b[0m_check_X_y\u001b[0m\u001b[0;34m(\u001b[0m\u001b[0mX\u001b[0m\u001b[0;34m,\u001b[0m \u001b[0my\u001b[0m\u001b[0;34m)\u001b[0m\u001b[0;34m\u001b[0m\u001b[0;34m\u001b[0m\u001b[0m\n",
            "\u001b[0;32m/usr/local/lib/python3.7/dist-packages/sklearn/utils/multiclass.py\u001b[0m in \u001b[0;36mcheck_classification_targets\u001b[0;34m(y)\u001b[0m\n\u001b[1;32m    187\u001b[0m     \u001b[0my\u001b[0m \u001b[0;34m:\u001b[0m \u001b[0marray\u001b[0m\u001b[0;34m-\u001b[0m\u001b[0mlike\u001b[0m\u001b[0;34m\u001b[0m\u001b[0;34m\u001b[0m\u001b[0m\n\u001b[1;32m    188\u001b[0m     \"\"\"\n\u001b[0;32m--> 189\u001b[0;31m     \u001b[0my_type\u001b[0m \u001b[0;34m=\u001b[0m \u001b[0mtype_of_target\u001b[0m\u001b[0;34m(\u001b[0m\u001b[0my\u001b[0m\u001b[0;34m)\u001b[0m\u001b[0;34m\u001b[0m\u001b[0;34m\u001b[0m\u001b[0m\n\u001b[0m\u001b[1;32m    190\u001b[0m     if y_type not in [\n\u001b[1;32m    191\u001b[0m         \u001b[0;34m\"binary\"\u001b[0m\u001b[0;34m,\u001b[0m\u001b[0;34m\u001b[0m\u001b[0;34m\u001b[0m\u001b[0m\n",
            "\u001b[0;32m/usr/local/lib/python3.7/dist-packages/sklearn/utils/multiclass.py\u001b[0m in \u001b[0;36mtype_of_target\u001b[0;34m(y)\u001b[0m\n\u001b[1;32m    322\u001b[0m     \u001b[0;32mif\u001b[0m \u001b[0my\u001b[0m\u001b[0;34m.\u001b[0m\u001b[0mdtype\u001b[0m\u001b[0;34m.\u001b[0m\u001b[0mkind\u001b[0m \u001b[0;34m==\u001b[0m \u001b[0;34m\"f\"\u001b[0m \u001b[0;32mand\u001b[0m \u001b[0mnp\u001b[0m\u001b[0;34m.\u001b[0m\u001b[0many\u001b[0m\u001b[0;34m(\u001b[0m\u001b[0my\u001b[0m \u001b[0;34m!=\u001b[0m \u001b[0my\u001b[0m\u001b[0;34m.\u001b[0m\u001b[0mastype\u001b[0m\u001b[0;34m(\u001b[0m\u001b[0mint\u001b[0m\u001b[0;34m)\u001b[0m\u001b[0;34m)\u001b[0m\u001b[0;34m:\u001b[0m\u001b[0;34m\u001b[0m\u001b[0;34m\u001b[0m\u001b[0m\n\u001b[1;32m    323\u001b[0m         \u001b[0;31m# [.1, .2, 3] or [[.1, .2, 3]] or [[1., .2]] and not [1., 2., 3.]\u001b[0m\u001b[0;34m\u001b[0m\u001b[0;34m\u001b[0m\u001b[0;34m\u001b[0m\u001b[0m\n\u001b[0;32m--> 324\u001b[0;31m         \u001b[0m_assert_all_finite\u001b[0m\u001b[0;34m(\u001b[0m\u001b[0my\u001b[0m\u001b[0;34m)\u001b[0m\u001b[0;34m\u001b[0m\u001b[0;34m\u001b[0m\u001b[0m\n\u001b[0m\u001b[1;32m    325\u001b[0m         \u001b[0;32mreturn\u001b[0m \u001b[0;34m\"continuous\"\u001b[0m \u001b[0;34m+\u001b[0m \u001b[0msuffix\u001b[0m\u001b[0;34m\u001b[0m\u001b[0;34m\u001b[0m\u001b[0m\n\u001b[1;32m    326\u001b[0m \u001b[0;34m\u001b[0m\u001b[0m\n",
            "\u001b[0;32m/usr/local/lib/python3.7/dist-packages/sklearn/utils/validation.py\u001b[0m in \u001b[0;36m_assert_all_finite\u001b[0;34m(X, allow_nan, msg_dtype)\u001b[0m\n\u001b[1;32m    114\u001b[0m             raise ValueError(\n\u001b[1;32m    115\u001b[0m                 msg_err.format(\n\u001b[0;32m--> 116\u001b[0;31m                     \u001b[0mtype_err\u001b[0m\u001b[0;34m,\u001b[0m \u001b[0mmsg_dtype\u001b[0m \u001b[0;32mif\u001b[0m \u001b[0mmsg_dtype\u001b[0m \u001b[0;32mis\u001b[0m \u001b[0;32mnot\u001b[0m \u001b[0;32mNone\u001b[0m \u001b[0;32melse\u001b[0m \u001b[0mX\u001b[0m\u001b[0;34m.\u001b[0m\u001b[0mdtype\u001b[0m\u001b[0;34m\u001b[0m\u001b[0;34m\u001b[0m\u001b[0m\n\u001b[0m\u001b[1;32m    117\u001b[0m                 )\n\u001b[1;32m    118\u001b[0m             )\n",
            "\u001b[0;31mValueError\u001b[0m: Input contains NaN, infinity or a value too large for dtype('float64')."
          ]
        }
      ],
      "source": [
        "X_over, y_over = oversample.fit_resample(X, y)"
      ]
    },
    {
      "cell_type": "code",
      "execution_count": null,
      "metadata": {
        "id": "3oDUclVRVSDR"
      },
      "outputs": [],
      "source": [
        "from imblearn.over_sampling import SMOTE\n",
        "\n",
        "# Метод ресемплинга\n",
        "method = SMOTE()\n",
        "\n",
        "# Измененный датасет\n",
        "X_resampled, y_resampled = method.fit_sample(X, y)"
      ]
    },
    {
      "cell_type": "code",
      "execution_count": null,
      "metadata": {
        "id": "1GDeQqwKVSDS"
      },
      "outputs": [],
      "source": [
        "# Функция сравнения графиков\n",
        "def compare_plot(X: np.ndarray, y: np.ndarray, X_resampled: np.ndarray, y_resampled: np.ndarray, method: str):\n",
        "    plt.subplot(1, 2, 1)\n",
        "    plt.scatter(X[y == 0, 0], X[y == 0, 1], label=\"Класс #0\", alpha=0.5, linewidth=0.15)\n",
        "    plt.scatter(X[y == 1, 0], X[y == 1, 1], label=\"Класс #1\", alpha=0.5, linewidth=0.15, c='r')\n",
        "    plt.title('Оригинальный баланс')\n",
        "    plt.subplot(1, 2, 2)\n",
        "    plt.scatter(X_resampled[y_resampled == 0, 0], X_resampled[y_resampled == 0, 1], label=\"Класс #0\", alpha=0.5, linewidth=0.15)\n",
        "    plt.scatter(X_resampled[y_resampled == 1, 0], X_resampled[y_resampled == 1, 1], label=\"Класс #1\", alpha=0.5, linewidth=0.15, c='r')\n",
        "    plt.title(method)\n",
        "    plt.legend()\n",
        "    plt.show()"
      ]
    },
    {
      "cell_type": "code",
      "execution_count": null,
      "metadata": {
        "id": "ENCVQkahVSDT"
      },
      "outputs": [],
      "source": [
        "compare_plot(X, y, X_resampled, y_resampled, method='SMOTE')"
      ]
    },
    {
      "cell_type": "code",
      "execution_count": null,
      "metadata": {
        "id": "vGhy_x-QVSDT"
      },
      "outputs": [],
      "source": [
        "compare_plot(X, y, X_over, y_over, method='RUS')"
      ]
    },
    {
      "cell_type": "markdown",
      "metadata": {
        "id": "H4s8xFQDVSDU"
      },
      "source": [
        "Обучим классическую модель классификации  - LinearRegression"
      ]
    },
    {
      "cell_type": "code",
      "execution_count": null,
      "metadata": {
        "id": "Y8ariHoxVSDU"
      },
      "outputs": [],
      "source": [
        "from sklearn.model_selection import train_test_split"
      ]
    },
    {
      "cell_type": "code",
      "execution_count": null,
      "metadata": {
        "id": "mvy3RQzrVSDV"
      },
      "outputs": [],
      "source": [
        "X = X_resampled\n",
        "y = y_resampled"
      ]
    },
    {
      "cell_type": "code",
      "execution_count": null,
      "metadata": {
        "id": "QRHJ9WBgVSDV"
      },
      "outputs": [],
      "source": [
        "# Разбиение данных на обучающую и тестовую части\n",
        "X_train, X_test, y_train, y_test = train_test_split(X, y, test_size=0.2)"
      ]
    },
    {
      "cell_type": "code",
      "execution_count": null,
      "metadata": {
        "id": "3705BP5MVSDW"
      },
      "outputs": [],
      "source": [
        "from sklearn.linear_model import LogisticRegression"
      ]
    },
    {
      "cell_type": "code",
      "execution_count": null,
      "metadata": {
        "id": "W0jO3tHpVSDW"
      },
      "outputs": [],
      "source": [
        "# Создаем модель логистической регрессии\n",
        "model = LogisticRegression(solver='liblinear')"
      ]
    },
    {
      "cell_type": "code",
      "execution_count": null,
      "metadata": {
        "id": "p2V2mv_VVSDW"
      },
      "outputs": [],
      "source": [
        "# Обучаем модель на тренировочных данных\n",
        "model.fit(X_train, y_train)"
      ]
    },
    {
      "cell_type": "code",
      "execution_count": null,
      "metadata": {
        "id": "3A6BdpkLVSDX"
      },
      "outputs": [],
      "source": [
        "# Сохраняем предсказания модели\n",
        "y_predicted = model.predict(X_test)"
      ]
    },
    {
      "cell_type": "code",
      "execution_count": null,
      "metadata": {
        "id": "0ddjmn6CVSDX"
      },
      "outputs": [],
      "source": [
        "from sklearn.metrics import r2_score, classification_report, confusion_matrix"
      ]
    },
    {
      "cell_type": "code",
      "execution_count": null,
      "metadata": {
        "id": "lhZfleYaVSDY"
      },
      "outputs": [],
      "source": [
        "y_predicted"
      ]
    },
    {
      "cell_type": "code",
      "execution_count": null,
      "metadata": {
        "id": "q4Cqf23aVSDY"
      },
      "outputs": [],
      "source": [
        "y_test"
      ]
    },
    {
      "cell_type": "code",
      "execution_count": null,
      "metadata": {
        "id": "2iaXDV_iVSDY"
      },
      "outputs": [],
      "source": [
        "# Сравниваем предсказания с истинными значениями при помощи метрики r^2 \n",
        "r2_score(y_test, y_predicted)"
      ]
    },
    {
      "cell_type": "code",
      "execution_count": null,
      "metadata": {
        "id": "ogrwkIzQVSDZ"
      },
      "outputs": [],
      "source": [
        "# Print the classifcation report and confusion matrix\n",
        "print('Classification report:\\n', classification_report(y_test, y_predicted))\n",
        "conf_mat = confusion_matrix(y_true=y_test, y_pred=y_predicted)\n",
        "print('Confusion matrix:\\n', conf_mat)"
      ]
    },
    {
      "cell_type": "code",
      "execution_count": null,
      "metadata": {
        "id": "O18wL9gnVSDZ"
      },
      "outputs": [],
      "source": [
        "scores = model.predict_proba(X_test)\n",
        "\n",
        "scores = scores[:, 1]\n"
      ]
    },
    {
      "cell_type": "code",
      "execution_count": null,
      "metadata": {
        "id": "Fr3Ex1HsVSDZ"
      },
      "outputs": [],
      "source": [
        "from sklearn.metrics import roc_curve"
      ]
    },
    {
      "cell_type": "code",
      "execution_count": null,
      "metadata": {
        "id": "z-t5xm7oVSDa"
      },
      "outputs": [],
      "source": [
        "fpr, tpr, thresholds = roc_curve(y_test, scores)"
      ]
    },
    {
      "cell_type": "code",
      "execution_count": null,
      "metadata": {
        "id": "U15Wyo4kVSDa"
      },
      "outputs": [],
      "source": [
        "plt.plot(fpr, tpr)\n",
        "plt.title(\"ROC Curve\")\n",
        "plt.xlabel(\"False Positive Rate\")\n",
        "plt.ylabel(\"True Positive Rate\")\n",
        "plt.show()"
      ]
    },
    {
      "cell_type": "code",
      "execution_count": null,
      "metadata": {
        "id": "m3rXyVgvVSDa"
      },
      "outputs": [],
      "source": [
        "# import the methods\n",
        "from sklearn.metrics import precision_recall_curve, average_precision_score, roc_auc_score, accuracy_score\n",
        "\n",
        "# Calculate average precision and the PR curve\n",
        "average_precision = average_precision_score(y_test, y_predicted)\n",
        "\n",
        "# Obtain precision and recall\n",
        "precision, recall, thresholds = precision_recall_curve(y_test, y_predicted)"
      ]
    },
    {
      "cell_type": "code",
      "execution_count": null,
      "metadata": {
        "id": "ASasCdFxVSDb"
      },
      "outputs": [],
      "source": [
        "# Obtain model probabilities\n",
        "probs = model.predict_proba(X_test)\n",
        "\n",
        "# Print ROC_AUC score using probabilities\n",
        "print(roc_auc_score(y_test, probs[:, 1]))"
      ]
    },
    {
      "cell_type": "code",
      "execution_count": null,
      "metadata": {
        "id": "D9mY2mXGVSDb"
      },
      "outputs": [],
      "source": [
        "from sklearn.ensemble import RandomForestClassifier\n",
        "modelRF = RandomForestClassifier()\n",
        "modelRF.fit(X_train, y_train)\n",
        "predicted = modelRF.predict(X_test)\n",
        "print(f'Accuracy Score:\\n{accuracy_score(y_test, predicted)}')"
      ]
    },
    {
      "cell_type": "code",
      "execution_count": null,
      "metadata": {
        "id": "9693MaBHVSDb"
      },
      "outputs": [],
      "source": [
        "r2_score(y_test, y_predicted)"
      ]
    },
    {
      "cell_type": "code",
      "execution_count": null,
      "metadata": {
        "id": "8xF8x_GFVSDc"
      },
      "outputs": [],
      "source": [
        "# Print the classifcation report and confusion matrix\n",
        "print('Classification report:\\n', classification_report(y_test, predicted))\n",
        "conf_mat = confusion_matrix(y_true=y_test, y_pred=predicted)\n",
        "print('Confusion matrix:\\n', conf_mat)"
      ]
    },
    {
      "cell_type": "code",
      "execution_count": null,
      "metadata": {
        "id": "n19sdTNfVSDc"
      },
      "outputs": [],
      "source": [
        "scores = modelRF.predict_proba(X_test)\n",
        "\n",
        "scores = scores[:, 1]"
      ]
    },
    {
      "cell_type": "code",
      "execution_count": null,
      "metadata": {
        "id": "uIJngo1rVSDc"
      },
      "outputs": [],
      "source": [
        "fpr, tpr, thresholds = roc_curve(y_test, scores)"
      ]
    },
    {
      "cell_type": "code",
      "execution_count": null,
      "metadata": {
        "id": "LSUpGYG1VSDd"
      },
      "outputs": [],
      "source": [
        "print(roc_auc_score(y_test, scores))"
      ]
    },
    {
      "cell_type": "code",
      "execution_count": null,
      "metadata": {
        "id": "fYuo2SnBVSDd"
      },
      "outputs": [],
      "source": [
        "plt.plot(fpr, tpr)\n",
        "plt.title(\"ROC Curve\")\n",
        "plt.xlabel(\"False Positive Rate\")\n",
        "plt.ylabel(\"True Positive Rate\")\n",
        "plt.show()"
      ]
    },
    {
      "cell_type": "code",
      "execution_count": null,
      "metadata": {
        "id": "ckByyx1BVSDd"
      },
      "outputs": [],
      "source": [
        "!pip install catboost"
      ]
    },
    {
      "cell_type": "code",
      "execution_count": null,
      "metadata": {
        "id": "2ayzbKnHVSDe"
      },
      "outputs": [],
      "source": [
        "from catboost import CatBoostClassifier, Pool"
      ]
    },
    {
      "cell_type": "code",
      "execution_count": null,
      "metadata": {
        "id": "l4fv3bSrVSDe"
      },
      "outputs": [],
      "source": [
        "cat = CatBoostClassifier(iterations=2,\n",
        "                           depth=2,\n",
        "                           learning_rate=1,\n",
        "                           loss_function='Logloss',\n",
        "                           verbose=True)"
      ]
    },
    {
      "cell_type": "code",
      "execution_count": null,
      "metadata": {
        "id": "GZPD_Z33VSDe"
      },
      "outputs": [],
      "source": [
        "cat.fit(X_train, y_train)"
      ]
    },
    {
      "cell_type": "code",
      "execution_count": null,
      "metadata": {
        "id": "AC0bBfgfVSDe"
      },
      "outputs": [],
      "source": [
        "y_pred= cat.predict(X_test)\n",
        "acc = accuracy_score(y_test, y_pred)\n",
        "print(\"Accuracy of %s is %s\"%(cat, acc))"
      ]
    },
    {
      "cell_type": "code",
      "execution_count": null,
      "metadata": {
        "id": "GPP1f4XrVSDf"
      },
      "outputs": [],
      "source": [
        "average_precision = average_precision_score(y_test, y_pred)\n",
        "average_precision "
      ]
    },
    {
      "cell_type": "code",
      "execution_count": null,
      "metadata": {
        "id": "XuzrWGK7VSDf"
      },
      "outputs": [],
      "source": [
        "r2_score(y_test, y_pred)"
      ]
    },
    {
      "cell_type": "code",
      "execution_count": null,
      "metadata": {
        "id": "TgMiR0R1VSDg"
      },
      "outputs": [],
      "source": [
        "# Print the classifcation report and confusion matrix\n",
        "print('Classification report:\\n', classification_report(y_test, y_pred))\n",
        "conf_mat = confusion_matrix(y_true=y_test, y_pred=y_pred)\n",
        "print('Confusion matrix:\\n', conf_mat)"
      ]
    },
    {
      "cell_type": "code",
      "execution_count": null,
      "metadata": {
        "id": "FeXH9pYiVSDg"
      },
      "outputs": [],
      "source": [
        "scores = cat.predict_proba(X_test)\n",
        "\n",
        "scores = scores[:, 1]"
      ]
    },
    {
      "cell_type": "code",
      "execution_count": null,
      "metadata": {
        "id": "tcWthUnjVSDg"
      },
      "outputs": [],
      "source": [
        "fpr, tpr, thresholds = roc_curve(y_test, scores)"
      ]
    },
    {
      "cell_type": "code",
      "execution_count": null,
      "metadata": {
        "id": "6vfOsNsJVSDh"
      },
      "outputs": [],
      "source": [
        "print(roc_auc_score(y_test, scores))"
      ]
    },
    {
      "cell_type": "code",
      "execution_count": null,
      "metadata": {
        "id": "H1HBEriaVSDh"
      },
      "outputs": [],
      "source": [
        "plt.plot(fpr, tpr)\n",
        "plt.title(\"ROC Curve\")\n",
        "plt.xlabel(\"False Positive Rate\")\n",
        "plt.ylabel(\"True Positive Rate\")\n",
        "plt.show()"
      ]
    },
    {
      "cell_type": "code",
      "execution_count": null,
      "metadata": {
        "id": "DdB9pUgQVSDh"
      },
      "outputs": [],
      "source": [
        "!pip install xgboost"
      ]
    },
    {
      "cell_type": "code",
      "execution_count": null,
      "metadata": {
        "id": "kn0uu4TjVSDh"
      },
      "outputs": [],
      "source": [
        "from sklearn.metrics import accuracy_score, confusion_matrix\n",
        "from sklearn.ensemble import RandomForestClassifier\n",
        "from sklearn import svm, tree\n",
        "import xgboost\n",
        "xgb = xgboost.XGBClassifier()\n",
        "xgb.fit(X_train,y_train)\n"
      ]
    },
    {
      "cell_type": "code",
      "execution_count": null,
      "metadata": {
        "id": "FR2aHrbkVSDi"
      },
      "outputs": [],
      "source": [
        "y_pred= xgb.predict(X_test)\n",
        "acc = accuracy_score(y_test, y_pred)\n",
        "print(\"Accuracy of %s is %s\"%(cat, acc))"
      ]
    },
    {
      "cell_type": "code",
      "execution_count": null,
      "metadata": {
        "id": "pUPwyIj5VSDi"
      },
      "outputs": [],
      "source": [
        "r2_score(y_test, y_pred)"
      ]
    },
    {
      "cell_type": "code",
      "execution_count": null,
      "metadata": {
        "scrolled": true,
        "id": "eQwwX0VXVSDi"
      },
      "outputs": [],
      "source": [
        "# Print the classifcation report and confusion matrix\n",
        "print('Classification report:\\n', classification_report(y_test, y_pred))\n",
        "conf_mat = confusion_matrix(y_true=y_test, y_pred=y_pred)\n",
        "print('Confusion matrix:\\n', conf_mat)"
      ]
    },
    {
      "cell_type": "code",
      "execution_count": null,
      "metadata": {
        "id": "aOpRmDQPVSDj"
      },
      "outputs": [],
      "source": [
        "scores = xgb.predict_proba(X_test)\n",
        "\n",
        "scores = scores[:, 1]"
      ]
    },
    {
      "cell_type": "code",
      "execution_count": null,
      "metadata": {
        "id": "3RLRz4L8VSDj"
      },
      "outputs": [],
      "source": [
        "fpr, tpr, thresholds = roc_curve(y_test, scores)"
      ]
    },
    {
      "cell_type": "code",
      "execution_count": null,
      "metadata": {
        "id": "LSwEXzfDVSDj"
      },
      "outputs": [],
      "source": [
        "print(roc_auc_score(y_test, scores))"
      ]
    },
    {
      "cell_type": "code",
      "execution_count": null,
      "metadata": {
        "id": "f_NleNKoVSDk"
      },
      "outputs": [],
      "source": [
        "plt.plot(fpr, tpr)\n",
        "plt.title(\"ROC Curve\")\n",
        "plt.xlabel(\"False Positive Rate\")\n",
        "plt.ylabel(\"True Positive Rate\")\n",
        "plt.show()"
      ]
    },
    {
      "cell_type": "code",
      "execution_count": null,
      "metadata": {
        "id": "4fgdk2gTVSDk"
      },
      "outputs": [],
      "source": [
        "# Using GridSearchCV\n",
        "from sklearn.model_selection import GridSearchCV\n",
        "# Create the parameter grid\n",
        "param_grid = {\n",
        "'max_depth': [80, 90, 100, 110],\n",
        "'max_features': [2, 3],\n",
        "'min_samples_leaf': [3, 4, 5],\n",
        "'min_samples_split': [8, 10, 12],\n",
        "'n_estimators': [100, 200, 300, 1000]\n",
        "}\n",
        "\n",
        "# Define which model to use\n",
        "from sklearn.ensemble import RandomForestRegressor\n",
        "model = RandomForestClassifier()\n",
        "# Instantiate the grid search model\n",
        "grid_search_model = GridSearchCV(estimator = model,\n",
        " param_grid = param_grid, cv = 5,\n",
        "n_jobs = -1, scoring='f1')\n",
        "\n",
        "# Fit the model to our training data and obtain best parameters\n",
        "grid_search_model.fit(X_train, y_train)\n",
        "grid_search_model.best_params_"
      ]
    },
    {
      "cell_type": "code",
      "execution_count": null,
      "metadata": {
        "id": "okBya5KKVSDk"
      },
      "outputs": [],
      "source": [
        "!pip install keras"
      ]
    },
    {
      "cell_type": "code",
      "execution_count": null,
      "metadata": {
        "id": "fbw7ht5bVSDl"
      },
      "outputs": [],
      "source": [
        "!pip install tensorflow"
      ]
    },
    {
      "cell_type": "code",
      "execution_count": null,
      "metadata": {
        "id": "IIiOXNvoVSDl"
      },
      "outputs": [],
      "source": [
        "import keras\n",
        "from keras import backend as K\n",
        "from keras.layers import Activation\n",
        "\n",
        "from tensorflow.keras.optimizers import Adam\n",
        "from tensorflow.keras.models import Sequential\n",
        "from tensorflow.keras.layers import Dense\n",
        "from keras.metrics import categorical_crossentropy\n",
        "\n",
        "n_inputs = X_train.shape[1]\n",
        "\n",
        "undersample_model = Sequential([\n",
        "    Dense(n_inputs, input_shape=(n_inputs, ), activation='relu'),\n",
        "    Dense(32, activation='relu'),\n",
        "    Dense(2, activation='softmax')\n",
        "])"
      ]
    }
  ],
  "metadata": {
    "kernelspec": {
      "display_name": "Python 3",
      "language": "python",
      "name": "python3"
    },
    "language_info": {
      "codemirror_mode": {
        "name": "ipython",
        "version": 3
      },
      "file_extension": ".py",
      "mimetype": "text/x-python",
      "name": "python",
      "nbconvert_exporter": "python",
      "pygments_lexer": "ipython3",
      "version": "3.7.6"
    },
    "colab": {
      "provenance": []
    }
  },
  "nbformat": 4,
  "nbformat_minor": 0
}